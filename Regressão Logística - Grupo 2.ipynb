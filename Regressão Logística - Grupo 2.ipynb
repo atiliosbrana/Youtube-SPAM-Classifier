{
 "cells": [
  {
   "cell_type": "markdown",
   "metadata": {},
   "source": [
    "# YouTube Spam Collection v. 1"
   ]
  },
  {
   "cell_type": "markdown",
   "metadata": {},
   "source": [
    "## Grupo 2\n",
    "Alberto Atilio Sbrana Junior\n",
    "<br>\n",
    "Luiz Barreto Pedro de Alcântara\n",
    "<br>\n",
    "Priscila Portela Costa"
   ]
  },
  {
   "cell_type": "markdown",
   "metadata": {},
   "source": [
    "# Problema"
   ]
  },
  {
   "cell_type": "markdown",
   "metadata": {},
   "source": [
    "Trata-se de um problema de classificação binária sobre comentários de vídeos no Youtube.\n",
    "<br>\n",
    "Há no total 5 arquivos, separados por artista:\n",
    "- Psy\n",
    "- Katy Perry\n",
    "- LMFAO\n",
    "- Eminem\n",
    "- Shakira"
   ]
  },
  {
   "cell_type": "markdown",
   "metadata": {},
   "source": [
    "# Bibliotecas"
   ]
  },
  {
   "cell_type": "code",
   "execution_count": 76,
   "metadata": {},
   "outputs": [],
   "source": [
    "import pandas as pd #manipulação de dataframes\n",
    "import numpy as np #manipulacao matricial\n",
    "import seaborn as sns #visualização\n",
    "import matplotlib.pyplot as plt #visualização\n",
    "\n",
    "# importa algumas biblioteca para plotar dados em 3D        \n",
    "from mpl_toolkits.mplot3d import Axes3D\n",
    "from matplotlib.patches import Rectangle\n",
    "from pylab import *\n",
    "\n",
    "import scipy.optimize  #otimizacao de parametros\n",
    "\n",
    "import ML_library #biblioteca criada pelo grupo 2"
   ]
  },
  {
   "cell_type": "markdown",
   "metadata": {},
   "source": [
    "# Modelo 3: Regressão Logística"
   ]
  },
  {
   "cell_type": "markdown",
   "metadata": {},
   "source": [
    "## Carregando os _datasets_"
   ]
  },
  {
   "cell_type": "code",
   "execution_count": 77,
   "metadata": {},
   "outputs": [],
   "source": [
    "#occurency\n",
    "X_occur_train = pd.read_csv('X_occurrency_train.csv', header=None).values\n",
    "X_occur_test = pd.read_csv('X_occurrency_test.csv', header=None).values\n",
    "X_occur_val = pd.read_csv('X_occurrency_validation.csv', header=None).values\n",
    "\n",
    "Y_occur_train = pd.read_csv('Y_occurrency_train.csv', header=None).values\n",
    "Y_occur_test = pd.read_csv('Y_occurrency_test.csv', header=None).values\n",
    "Y_occur_val = pd.read_csv('Y_occurrency_validation.csv', header=None).values\n",
    "\n",
    "#frequency\n",
    "X_frequ_train = pd.read_csv('X_frequency_train.csv', header=None).values\n",
    "X_frequ_test = pd.read_csv('X_frequency_test.csv', header=None).values\n",
    "X_frequ_val = pd.read_csv('X_frequency_validation.csv', header=None).values\n",
    "\n",
    "Y_frequ_train = pd.read_csv('Y_frequency_train.csv', header=None).values\n",
    "Y_frequ_test = pd.read_csv('Y_frequency_test.csv', header=None).values\n",
    "Y_frequ_val = pd.read_csv('Y_frequency_validation.csv', header=None).values\n",
    "\n",
    "#tf_idf\n",
    "X_tfidf_train = pd.read_csv('X_tfidf_train.csv', header=None).values\n",
    "X_tfidf_test = pd.read_csv('X_tfidf_test.csv', header=None).values\n",
    "X_tfidf_val = pd.read_csv('X_tfidf_validation.csv', header=None).values\n",
    "\n",
    "Y_tfidf_train = pd.read_csv('Y_tfidf_train.csv', header=None).values\n",
    "Y_tfidf_test = pd.read_csv('Y_tfidf_test.csv', header=None).values\n",
    "Y_tfidf_val = pd.read_csv('Y_tfidf_validation.csv', header=None).values"
   ]
  },
  {
   "cell_type": "markdown",
   "metadata": {},
   "source": [
    "## Funções auxiliares"
   ]
  },
  {
   "cell_type": "code",
   "execution_count": 78,
   "metadata": {},
   "outputs": [],
   "source": [
    "def sigmoid(z):\n",
    "    return 1 / (1 + np.exp(-z))\n",
    "\n",
    "def predicao(theta, X):\n",
    "    return np.round(sigmoid(X.dot(theta)) + 1e-15)\n",
    "\n",
    "def funcaoCustoReg(theta, X, Y, l):\n",
    "    m = len(Y)\n",
    "    eps = 1e-15\n",
    "    h = sigmoid(X.dot(theta))\n",
    "    J = -(1 / m) * np.sum(Y * np.log(h) + (1 - Y) * np.log(1 - h + eps)) + (l / (2 * m)) * np.sum(np.square(theta[1:]))\n",
    "    reg = l / m * theta[1:]\n",
    "    grad = (1 / m) * np.dot(X.T, h - Y)\n",
    "    grad[1:] += reg\n",
    "    return J, grad"
   ]
  },
  {
   "cell_type": "code",
   "execution_count": 79,
   "metadata": {},
   "outputs": [],
   "source": [
    "import scipy.optimize  \n",
    "\n",
    "lambda_reg = 1\n",
    "MaxIter = 10 #número máximo de iterações para a minimização da função de custo"
   ]
  },
  {
   "cell_type": "markdown",
   "metadata": {},
   "source": [
    "## Occurency"
   ]
  },
  {
   "cell_type": "code",
   "execution_count": 80,
   "metadata": {},
   "outputs": [],
   "source": [
    "X_train_occur_rl = np.array(X_occur_train, dtype = float)\n",
    "Y_train_occur_rl = np.array(Y_occur_train, dtype = float)\n",
    "\n",
    "X_val_occur_rl = np.array(X_occur_val, dtype = float)\n",
    "Y_val_occur_rl = np.array(Y_occur_val, dtype = float)\n",
    "\n",
    "m_train, n_train = X_train_occur_rl.shape # m = qtde de objetos e n = qtde de atributos por objeto\n",
    "m_val, n_val = X_val_occur_rl.shape # m = qtde de objetos e n = qtde de atributos por objeto\n",
    "\n",
    "X_train_occur_rl = np.column_stack((np.ones(m_train), X_train_occur_rl)) # Adiciona uma coluna de 1s em x_train\n",
    "X_val_occur_rl = np.column_stack((np.ones(m_val), X_val_occur_rl)) # Adiciona uma coluna de 1s em x_val\n",
    "\n",
    "theta = np.zeros(n_train+1) # Inicializa os parâmetros que serão ajustados"
   ]
  },
  {
   "cell_type": "code",
   "execution_count": 81,
   "metadata": {},
   "outputs": [
    {
     "name": "stderr",
     "output_type": "stream",
     "text": [
      "/usr/local/lib/python3.7/site-packages/ipykernel_launcher.py:2: RuntimeWarning: overflow encountered in exp\n",
      "  \n",
      "/usr/local/lib/python3.7/site-packages/ipykernel_launcher.py:11: RuntimeWarning: divide by zero encountered in log\n",
      "  # This is added back by InteractiveShellApp.init_path()\n",
      "/usr/local/lib/python3.7/site-packages/ipykernel_launcher.py:11: RuntimeWarning: invalid value encountered in multiply\n",
      "  # This is added back by InteractiveShellApp.init_path()\n"
     ]
    },
    {
     "name": "stdout",
     "output_type": "stream",
     "text": [
      "Warning: Maximum number of iterations has been exceeded.\n",
      "         Current function value: 0.415666\n",
      "         Iterations: 10\n",
      "         Function evaluations: 18\n",
      "         Gradient evaluations: 18\n"
     ]
    }
   ],
   "source": [
    "# minimiza a funcao de custo\n",
    "result_occur = scipy.optimize.minimize(fun=funcaoCustoReg, x0=theta, args=(X_train_occur_rl, \n",
    "                                                                           Y_train_occur_rl.T[0], lambda_reg),  \n",
    "                method='BFGS', jac=True, options={'maxiter': MaxIter, 'disp':True})\n",
    "\n",
    "# coleta os thetas retornados pela função de minimização\n",
    "theta = result_occur.x"
   ]
  },
  {
   "cell_type": "code",
   "execution_count": 82,
   "metadata": {},
   "outputs": [
    {
     "name": "stdout",
     "output_type": "stream",
     "text": [
      "[[129  20]\n",
      " [ 30  88]]\n",
      "Score F1: 0.8376623376623376\n"
     ]
    }
   ],
   "source": [
    "res_occur = predicao(theta, X_val_occur_rl)\n",
    "cm_rl_occur = ML_library.get_confusionMatrix(Y_val_occur_rl, res_occur, [0,1])\n",
    "vp=cm_rl_occur[0,0] # quantidade de verdadeiros positivos\n",
    "vn=cm_rl_occur[1,1] # quantidade de verdadeiros negativos\n",
    "fp=cm_rl_occur[1,0] # quantidade de falsos positivos\n",
    "fn=cm_rl_occur[0,1] # quantidade de falsos negativos    \n",
    "recall = vp/(vp+fn)\n",
    "precision = vp/(vp+fp)\n",
    "print(cm_rl_occur)\n",
    "f1 = 2 * (precision * recall) / (precision + recall)\n",
    "print('Score F1: {}'.format(f1))"
   ]
  },
  {
   "cell_type": "markdown",
   "metadata": {},
   "source": [
    "## Frequency"
   ]
  },
  {
   "cell_type": "code",
   "execution_count": 83,
   "metadata": {},
   "outputs": [],
   "source": [
    "X_train_frequ_rl = np.array(X_frequ_train, dtype = float)\n",
    "Y_train_frequ_rl = np.array(Y_frequ_train, dtype = float)\n",
    "\n",
    "X_val_frequ_rl = np.array(X_frequ_val, dtype = float)\n",
    "Y_val_frequ_rl = np.array(Y_frequ_val, dtype = float)\n",
    "\n",
    "m_train, n_train = X_train_frequ_rl.shape # m = qtde de objetos e n = qtde de atributos por objeto\n",
    "m_val, n_val = X_val_frequ_rl.shape # m = qtde de objetos e n = qtde de atributos por objeto\n",
    "\n",
    "X_train_frequ_rl = np.column_stack((np.ones(m_train), X_train_frequ_rl)) # Adiciona uma coluna de 1s em x_train\n",
    "X_val_frequ_rl = np.column_stack((np.ones(m_val), X_val_frequ_rl)) # Adiciona uma coluna de 1s em x_val\n",
    "\n",
    "theta = np.zeros(n_train+1) # Inicializa os parâmetros que serão ajustados"
   ]
  },
  {
   "cell_type": "code",
   "execution_count": 84,
   "metadata": {},
   "outputs": [
    {
     "name": "stderr",
     "output_type": "stream",
     "text": [
      "/usr/local/lib/python3.7/site-packages/ipykernel_launcher.py:2: RuntimeWarning: overflow encountered in exp\n",
      "  \n",
      "/usr/local/lib/python3.7/site-packages/ipykernel_launcher.py:11: RuntimeWarning: divide by zero encountered in log\n",
      "  # This is added back by InteractiveShellApp.init_path()\n",
      "/usr/local/lib/python3.7/site-packages/ipykernel_launcher.py:11: RuntimeWarning: invalid value encountered in multiply\n",
      "  # This is added back by InteractiveShellApp.init_path()\n"
     ]
    },
    {
     "name": "stdout",
     "output_type": "stream",
     "text": [
      "Warning: Maximum number of iterations has been exceeded.\n",
      "         Current function value: 0.411573\n",
      "         Iterations: 10\n",
      "         Function evaluations: 18\n",
      "         Gradient evaluations: 18\n"
     ]
    }
   ],
   "source": [
    "# minimiza a funcao de custo\n",
    "result_frequ = scipy.optimize.minimize(fun=funcaoCustoReg, x0=theta, args=(X_train_frequ_rl, \n",
    "                                                                           Y_train_frequ_rl.T[0], lambda_reg),  \n",
    "                method='BFGS', jac=True, options={'maxiter': MaxIter, 'disp':True})\n",
    "\n",
    "# coleta os thetas retornados pela função de minimização\n",
    "theta = result_frequ.x"
   ]
  },
  {
   "cell_type": "code",
   "execution_count": 85,
   "metadata": {},
   "outputs": [
    {
     "name": "stdout",
     "output_type": "stream",
     "text": [
      "[[132  17]\n",
      " [ 31  87]]\n",
      "Score F1: 0.8461538461538461\n"
     ]
    }
   ],
   "source": [
    "res_frequ = predicao(theta, X_val_frequ_rl)\n",
    "cm_rl_frequ = ML_library.get_confusionMatrix(Y_val_frequ_rl, res_frequ, [0,1])\n",
    "vp=cm_rl_frequ[0,0] # quantidade de verdadeiros positivos\n",
    "vn=cm_rl_frequ[1,1] # quantidade de verdadeiros negativos\n",
    "fp=cm_rl_frequ[1,0] # quantidade de falsos positivos\n",
    "fn=cm_rl_frequ[0,1] # quantidade de falsos negativos    \n",
    "recall = vp/(vp+fn)\n",
    "precision = vp/(vp+fp)\n",
    "print(cm_rl_frequ)\n",
    "f1 = 2 * (precision * recall) / (precision + recall)\n",
    "print('Score F1: {}'.format(f1))"
   ]
  },
  {
   "cell_type": "markdown",
   "metadata": {},
   "source": [
    "## TF-IDF"
   ]
  },
  {
   "cell_type": "code",
   "execution_count": 86,
   "metadata": {},
   "outputs": [],
   "source": [
    "X_train_tfidf_rl = np.array(X_tfidf_train, dtype = float)\n",
    "Y_train_tfidf_rl = np.array(Y_tfidf_train, dtype = float)\n",
    "\n",
    "X_val_tfidf_rl = np.array(X_tfidf_val, dtype = float)\n",
    "Y_val_tfidf_rl = np.array(Y_tfidf_val, dtype = float)\n",
    "\n",
    "m_train, n_train = X_train_tfidf_rl.shape # m = qtde de objetos e n = qtde de atributos por objeto\n",
    "m_val, n_val = X_val_tfidf_rl.shape # m = qtde de objetos e n = qtde de atributos por objeto\n",
    "\n",
    "X_train_tfidf_rl = np.column_stack((np.ones(m_train), X_train_tfidf_rl)) # Adiciona uma coluna de 1s em x_train\n",
    "X_val_tfidf_rl = np.column_stack((np.ones(m_val), X_val_tfidf_rl)) # Adiciona uma coluna de 1s em x_val\n",
    "\n",
    "theta = np.zeros(n_train+1) # Inicializa os parâmetros que serão ajustados"
   ]
  },
  {
   "cell_type": "code",
   "execution_count": 87,
   "metadata": {},
   "outputs": [
    {
     "name": "stderr",
     "output_type": "stream",
     "text": [
      "/usr/local/lib/python3.7/site-packages/ipykernel_launcher.py:2: RuntimeWarning: overflow encountered in exp\n",
      "  \n",
      "/usr/local/lib/python3.7/site-packages/ipykernel_launcher.py:11: RuntimeWarning: divide by zero encountered in log\n",
      "  # This is added back by InteractiveShellApp.init_path()\n",
      "/usr/local/lib/python3.7/site-packages/ipykernel_launcher.py:11: RuntimeWarning: invalid value encountered in multiply\n",
      "  # This is added back by InteractiveShellApp.init_path()\n"
     ]
    },
    {
     "name": "stdout",
     "output_type": "stream",
     "text": [
      "Warning: Maximum number of iterations has been exceeded.\n",
      "         Current function value: 0.409754\n",
      "         Iterations: 10\n",
      "         Function evaluations: 18\n",
      "         Gradient evaluations: 18\n"
     ]
    }
   ],
   "source": [
    "# minimiza a funcao de custo\n",
    "result_tfidf = scipy.optimize.minimize(fun=funcaoCustoReg, x0=theta, args=(X_train_tfidf_rl, Y_train_tfidf_rl.T[0], \n",
    "                                                                           lambda_reg),  \n",
    "                method='BFGS', jac=True, options={'maxiter': MaxIter, 'disp':True})\n",
    "\n",
    "# coleta os thetas retornados pela função de minimização\n",
    "theta = result_tfidf.x"
   ]
  },
  {
   "cell_type": "code",
   "execution_count": 88,
   "metadata": {},
   "outputs": [
    {
     "name": "stdout",
     "output_type": "stream",
     "text": [
      "[[130  19]\n",
      " [ 37  81]]\n",
      "Score F1: 0.8227848101265823\n"
     ]
    }
   ],
   "source": [
    "res_tfidf = predicao(theta, X_val_tfidf_rl)\n",
    "cm_rl_tfidf = ML_library.get_confusionMatrix(Y_val_tfidf_rl, res_tfidf, [0,1])\n",
    "vp=cm_rl_tfidf[0,0] # quantidade de verdadeiros positivos\n",
    "vn=cm_rl_tfidf[1,1] # quantidade de verdadeiros negativos\n",
    "fp=cm_rl_tfidf[1,0] # quantidade de falsos positivos\n",
    "fn=cm_rl_tfidf[0,1] # quantidade de falsos negativos    \n",
    "recall = vp/(vp+fn)\n",
    "precision = vp/(vp+fp)\n",
    "print(cm_rl_tfidf)   \n",
    "f1 = 2 * (precision * recall) / (precision + recall)\n",
    "print('Score F1: {}'.format(f1))"
   ]
  },
  {
   "cell_type": "markdown",
   "metadata": {},
   "source": [
    "Verificamos que o modelo que usa o modo de tratamento _Frequency_ é o que obteve o maior valor na métrica escolhida."
   ]
  },
  {
   "cell_type": "code",
   "execution_count": 89,
   "metadata": {},
   "outputs": [
    {
     "name": "stderr",
     "output_type": "stream",
     "text": [
      "/usr/local/lib/python3.7/site-packages/ipykernel_launcher.py:2: RuntimeWarning: overflow encountered in exp\n",
      "  \n",
      "/usr/local/lib/python3.7/site-packages/ipykernel_launcher.py:11: RuntimeWarning: divide by zero encountered in log\n",
      "  # This is added back by InteractiveShellApp.init_path()\n",
      "/usr/local/lib/python3.7/site-packages/ipykernel_launcher.py:11: RuntimeWarning: invalid value encountered in multiply\n",
      "  # This is added back by InteractiveShellApp.init_path()\n"
     ]
    },
    {
     "name": "stdout",
     "output_type": "stream",
     "text": [
      "Warning: Maximum number of iterations has been exceeded.\n",
      "         Current function value: 0.342464\n",
      "         Iterations: 10\n",
      "         Function evaluations: 19\n",
      "         Gradient evaluations: 19\n",
      "Warning: Maximum number of iterations has been exceeded.\n",
      "         Current function value: 0.362701\n",
      "         Iterations: 10\n",
      "         Function evaluations: 18\n",
      "         Gradient evaluations: 18\n",
      "Warning: Maximum number of iterations has been exceeded.\n",
      "         Current function value: 0.348317\n",
      "         Iterations: 10\n",
      "         Function evaluations: 18\n",
      "         Gradient evaluations: 18\n",
      "Warning: Maximum number of iterations has been exceeded.\n",
      "         Current function value: 0.376674\n",
      "         Iterations: 10\n",
      "         Function evaluations: 18\n",
      "         Gradient evaluations: 18\n",
      "Warning: Maximum number of iterations has been exceeded.\n",
      "         Current function value: 0.381226\n",
      "         Iterations: 10\n",
      "         Function evaluations: 18\n",
      "         Gradient evaluations: 18\n",
      "Warning: Maximum number of iterations has been exceeded.\n",
      "         Current function value: 0.396204\n",
      "         Iterations: 10\n",
      "         Function evaluations: 18\n",
      "         Gradient evaluations: 18\n",
      "Warning: Maximum number of iterations has been exceeded.\n",
      "         Current function value: 0.398889\n",
      "         Iterations: 10\n",
      "         Function evaluations: 18\n",
      "         Gradient evaluations: 18\n",
      "Warning: Maximum number of iterations has been exceeded.\n",
      "         Current function value: 0.418902\n",
      "         Iterations: 10\n",
      "         Function evaluations: 18\n",
      "         Gradient evaluations: 18\n",
      "Warning: Maximum number of iterations has been exceeded.\n",
      "         Current function value: 0.414857\n",
      "         Iterations: 10\n",
      "         Function evaluations: 18\n",
      "         Gradient evaluations: 18\n",
      "Warning: Maximum number of iterations has been exceeded.\n",
      "         Current function value: 0.406157\n",
      "         Iterations: 10\n",
      "         Function evaluations: 18\n",
      "         Gradient evaluations: 18\n"
     ]
    },
    {
     "data": {
      "image/png": "[encoded data removed]",
      "text/plain": [
       "<Figure size 720x432 with 1 Axes>"
      ]
     },
     "metadata": {
      "needs_background": "light"
     },
     "output_type": "display_data"
    }
   ],
   "source": [
    "def curva_aprendizado_lr(X, Y, Xval, Yval):\n",
    "\n",
    "    # inicializa as listas que guardarao a performance no treinamento e na validacao\n",
    "    perf_train = []\n",
    "    perf_val = []\n",
    "    \n",
    "    num_rows = len(X)\n",
    "    \n",
    "    for i in range(100,num_rows, 100):\n",
    "        x_train = X[0:i,:]\n",
    "        y_train = Y[0:i]\n",
    "        \n",
    "        m_train, n_train = x_train.shape\n",
    "        m_val, n_val = Xval.shape\n",
    "        \n",
    "        theta = np.zeros(n_train+1) # Inicializa os parâmetros que serão ajustados\n",
    "\n",
    "        x_train = np.column_stack((np.ones(m_train), x_train)) # Adiciona uma coluna de 1s em x\n",
    "        Xval_n = np.column_stack((np.ones(m_val), Xval))\n",
    "\n",
    "        \n",
    "        result_freq = scipy.optimize.minimize(fun=funcaoCustoReg, \n",
    "                                               x0=theta, \n",
    "                                               args=(x_train, y_train.T[0], lambda_reg),  \n",
    "                            method='BFGS', jac=True, options={'maxiter': MaxIter, 'disp':True})\n",
    "\n",
    "        # coleta os thetas retornados pela função de minimização\n",
    "        theta = result_freq.x\n",
    "        \n",
    "        #train\n",
    "        pred_train = predicao(theta, x_train)          \n",
    "        \n",
    "        #validation\n",
    "        pred_val = predicao(theta, Xval_n)        \n",
    "        \n",
    "        #scores\n",
    "        #train\n",
    "        cm_train = ML_library.get_confusionMatrix(y_train, pred_train, [0,1])\n",
    "        vp_train=cm_train[0,0] # quantidade de verdadeiros positivos\n",
    "        vn_train=cm_train[1,1] # quantidade de verdadeiros negativos\n",
    "        fp_train=cm_train[1,0] # quantidade de falsos positivos\n",
    "        fn_train=cm_train[0,1] # quantidade de falsos negativos\n",
    "        \n",
    "        recall_train = vp_train/(vp_train+fn_train)\n",
    "        precision_train = vp_train/(vp_train+fp_train)\n",
    "    \n",
    "        f1_train = 2 * (precision_train * recall_train) / (precision_train + recall_train)               \n",
    "        #val     \n",
    "        cm_val = ML_library.get_confusionMatrix(Yval, pred_val, [0,1])\n",
    "        vp_val=cm_val[0,0] # quantidade de verdadeiros positivos\n",
    "        vn_val=cm_val[1,1] # quantidade de verdadeiros negativos\n",
    "        fp_val=cm_val[1,0] # quantidade de falsos positivos\n",
    "        fn_val=cm_val[0,1] # quantidade de falsos negativos\n",
    "        \n",
    "        recall_val = vp_val/(vp_val+fn_val)\n",
    "        precision_val = vp_val/(vp_val+fp_val)\n",
    "    \n",
    "        f1_val = 2 * (precision_val * recall_val) / (precision_val + recall_val)         \n",
    "                \n",
    "        perf_train.append(f1_train)\n",
    "        perf_val.append(f1_val)\n",
    "       \n",
    "    # Define o tamanho da figura \n",
    "    plt.figure(figsize=(10,6))\n",
    "\n",
    "    # Plota os dados\n",
    "    plt.plot(perf_train, color='blue', linestyle='-', linewidth=1.5, label='Treino') \n",
    "    plt.plot(perf_val, color='red', linestyle='-', linewidth=1.5, label='Validação')\n",
    "\n",
    "    # Define os nomes do eixo x e do eixo y\n",
    "    plt.xlabel(r'# Qtd. de dados de treinamento',fontsize='x-large') \n",
    "    plt.ylabel(r'F1 Score',fontsize='x-large') \n",
    "\n",
    "    # Define o título do gráfico\n",
    "    plt.title(r'Curva de aprendizado', fontsize='x-large')\n",
    "\n",
    "    # Acrescenta um grid no gráfico\n",
    "    plt.grid(axis='both')\n",
    "\n",
    "    # Plota a legenda\n",
    "    plt.legend()\n",
    "    \n",
    "    plt.show()\n",
    "    \n",
    "curva_aprendizado_lr(X_train_frequ_rl, Y_train_frequ_rl, X_val_frequ_rl, Y_val_frequ_rl)"
   ]
  },
  {
   "cell_type": "markdown",
   "metadata": {},
   "source": [
    "Verificamos que a curva de aprendizado age de acordo com o esperado, com o crescimento do score no _dataset_ de validação e diminuição do score no dataset de treino."
   ]
  },
  {
   "cell_type": "markdown",
   "metadata": {},
   "source": [
    "Se utilizarmos o _dataset_ de teste, obteremos o resultado a seguir:"
   ]
  },
  {
   "cell_type": "code",
   "execution_count": 90,
   "metadata": {},
   "outputs": [
    {
     "name": "stdout",
     "output_type": "stream",
     "text": [
      "[[166  20]\n",
      " [ 25 122]]\n",
      "Score F1: 0.8806366047745358\n"
     ]
    }
   ],
   "source": [
    "X_test_frequ_rl = np.array(X_frequ_test, dtype = float)\n",
    "Y_test_frequ_rl = np.array(Y_frequ_test, dtype = float)\n",
    "\n",
    "m_test, n_test = X_test_frequ_rl.shape\n",
    "X_test_frequ_rl = np.column_stack((np.ones(m_test), X_test_frequ_rl)) # Adiciona uma coluna de 1s em x\n",
    "\n",
    "theta = result_frequ.x\n",
    "\n",
    "res_frequ = predicao(theta, X_test_frequ_rl)\n",
    "cm = ML_library.get_confusionMatrix(Y_test_frequ_rl, res_frequ, [0,1])\n",
    "vp=cm[0,0] # quantidade de verdadeiros positivos\n",
    "vn=cm[1,1] # quantidade de verdadeiros negativos\n",
    "fp=cm[1,0] # quantidade de falsos positivos\n",
    "fn=cm[0,1] # quantidade de falsos negativos    \n",
    "recall = vp/(vp+fn)\n",
    "precision = vp/(vp+fp)\n",
    "print(cm)  \n",
    "f1 = 2 * (precision * recall) / (precision + recall)\n",
    "print('Score F1: {}'.format(f1))"
   ]
  },
  {
   "cell_type": "markdown",
   "metadata": {},
   "source": [
    "Verficamos que os scores obtidos com o _dataset_ de validação e o _dataset_ de teste são parecidos, o que é um indicativo de que não há overfit."
   ]
  }
 ],
 "metadata": {
  "kernelspec": {
   "display_name": "Python 3",
   "language": "python",
   "name": "python3"
  },
  "language_info": {
   "codemirror_mode": {
    "name": "ipython",
    "version": 3
   },
   "file_extension": ".py",
   "mimetype": "text/x-python",
   "name": "python",
   "nbconvert_exporter": "python",
   "pygments_lexer": "ipython3",
   "version": "3.7.3"
  }
 },
 "nbformat": 4,
 "nbformat_minor": 1
}
