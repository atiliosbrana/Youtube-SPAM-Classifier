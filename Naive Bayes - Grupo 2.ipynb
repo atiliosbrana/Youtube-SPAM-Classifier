{
 "cells": [
  {
   "cell_type": "markdown",
   "metadata": {},
   "source": [
    "# YouTube Spam Collection v. 1"
   ]
  },
  {
   "cell_type": "markdown",
   "metadata": {},
   "source": [
    "## Grupo 2\n",
    "Alberto Atilio Sbrana Junior\n",
    "<br>\n",
    "Luiz Barreto Pedro de Alcântara\n",
    "<br>\n",
    "Priscila Portela Costa"
   ]
  },
  {
   "cell_type": "markdown",
   "metadata": {},
   "source": [
    "# Problema"
   ]
  },
  {
   "cell_type": "markdown",
   "metadata": {},
   "source": [
    "Trata-se de um problema de classificação binária sobre comentários de vídeos no Youtube.\n",
    "<br>\n",
    "Há no total 5 arquivos, separados por artista:\n",
    "- Psy\n",
    "- Katy Perry\n",
    "- LMFAO\n",
    "- Eminem\n",
    "- Shakira"
   ]
  },
  {
   "cell_type": "markdown",
   "metadata": {},
   "source": [
    "# Bibliotecas"
   ]
  },
  {
   "cell_type": "code",
   "execution_count": 46,
   "metadata": {},
   "outputs": [],
   "source": [
    "import pandas as pd #manipulação de dataframes\n",
    "import numpy as np #manipulacao matricial\n",
    "import seaborn as sns #visualização\n",
    "import matplotlib.pyplot as plt #visualização\n",
    "\n",
    "import scipy.optimize  #otimizacao de parametros\n",
    "\n",
    "from ML_library import * #biblioteca criada pelo grupo 2"
   ]
  },
  {
   "cell_type": "markdown",
   "metadata": {},
   "source": [
    "# Modelo 2: Naive Bayes"
   ]
  },
  {
   "cell_type": "markdown",
   "metadata": {},
   "source": [
    "## Carregando os _datasets_"
   ]
  },
  {
   "cell_type": "code",
   "execution_count": 47,
   "metadata": {},
   "outputs": [],
   "source": [
    "#occurency\n",
    "X_occur_train = pd.read_csv('X_occurrency_train.csv', header=None).values\n",
    "X_occur_test = pd.read_csv('X_occurrency_test.csv', header=None).values\n",
    "X_occur_val = pd.read_csv('X_occurrency_validation.csv', header=None).values\n",
    "\n",
    "Y_occur_train = pd.read_csv('Y_occurrency_train.csv', header=None).values\n",
    "Y_occur_test = pd.read_csv('Y_occurrency_test.csv', header=None).values\n",
    "Y_occur_val = pd.read_csv('Y_occurrency_validation.csv', header=None).values\n",
    "\n",
    "#frequency\n",
    "X_frequ_train = pd.read_csv('X_frequency_train.csv', header=None).values\n",
    "X_frequ_test = pd.read_csv('X_frequency_test.csv', header=None).values\n",
    "X_frequ_val = pd.read_csv('X_frequency_validation.csv', header=None).values\n",
    "\n",
    "Y_frequ_train = pd.read_csv('Y_frequency_train.csv', header=None).values\n",
    "Y_frequ_test = pd.read_csv('Y_frequency_test.csv', header=None).values\n",
    "Y_frequ_val = pd.read_csv('Y_frequency_validation.csv', header=None).values\n",
    "\n",
    "#tf_idf\n",
    "X_tfidf_train = pd.read_csv('X_tfidf_train.csv', header=None).values\n",
    "X_tfidf_test = pd.read_csv('X_tfidf_test.csv', header=None).values\n",
    "X_tfidf_val = pd.read_csv('X_tfidf_validation.csv', header=None).values\n",
    "\n",
    "Y_tfidf_train = pd.read_csv('Y_tfidf_train.csv', header=None).values\n",
    "Y_tfidf_test = pd.read_csv('Y_tfidf_test.csv', header=None).values\n",
    "Y_tfidf_val = pd.read_csv('Y_tfidf_validation.csv', header=None).values"
   ]
  },
  {
   "cell_type": "markdown",
   "metadata": {},
   "source": [
    "## Funções auxiliares"
   ]
  },
  {
   "cell_type": "code",
   "execution_count": 48,
   "metadata": {},
   "outputs": [],
   "source": [
    "def calcularProbabilidades(X, Y):\n",
    "   \n",
    "    pAtrSPAM = np.zeros(X.shape[1])\n",
    "    pAtrHAM = np.zeros(X.shape[1])\n",
    "    \n",
    "    SPAM_indice = np.where(Y == 1)\n",
    "    HAM_indice = np.where(Y == 0)\n",
    "    \n",
    "    pAtrSPAM = X[SPAM_indice].sum(axis=0)/len(SPAM_indice[0])\n",
    "    pAtrHAM = X[HAM_indice].sum(axis=0)/len(HAM_indice[0])\n",
    "\n",
    "    return pAtrSPAM, pAtrHAM\n",
    "\n",
    "\n",
    "def classificacao(x,pSPAM,pHAM,pAtrSPAM,pAtrHAM):\n",
    "    classe = 0;\n",
    "    probSPAM = 1;\n",
    "    probHAM = 1;\n",
    "    \n",
    "    for idx, val in enumerate(x):\n",
    "        if val == 1:\n",
    "            probSPAM = probSPAM * pAtrSPAM[idx]\n",
    "            probHAM = probHAM * pAtrHAM[idx]\n",
    "        else:\n",
    "            probSPAM = probSPAM * (1-pAtrSPAM[idx])\n",
    "            probHAM = probHAM * (1-pAtrHAM[idx])    \n",
    "            \n",
    "    probSPAM = probSPAM*pSPAM\n",
    "    probHAM = probHAM*pHAM\n",
    "            \n",
    "    if probSPAM > probHAM:\n",
    "        classe = 1\n",
    "    else:\n",
    "        classe = 0\n",
    "                \n",
    "    return classe, probSPAM, probHAM "
   ]
  },
  {
   "cell_type": "markdown",
   "metadata": {},
   "source": [
    "## Occurrency"
   ]
  },
  {
   "cell_type": "code",
   "execution_count": 49,
   "metadata": {},
   "outputs": [
    {
     "name": "stdout",
     "output_type": "stream",
     "text": [
      "Matriz de confusão:\n",
      "[[ 93  56]\n",
      " [102  16]]\n"
     ]
    }
   ],
   "source": [
    "pAtrSPAM_occur, pAtrHAM_occur = calcularProbabilidades(X_occur_train,Y_occur_train.T[0])\n",
    "pSPAM_occur = sum(Y_occur_train==1)/len(Y_occur_train) \n",
    "pHAM_occur = sum(Y_occur_train==0)/len(Y_occur_train)\n",
    "\n",
    "res_val_occur = []\n",
    "for i in X_occur_val:\n",
    "    result, probSPAM_occur, probHAM_occur = classificacao(i,pSPAM_occur,pHAM_occur,pAtrSPAM_occur,pAtrHAM_occur)\n",
    "    res_val_occur.append(result)\n",
    "    \n",
    "cm_occur = get_confusionMatrix(Y_occur_val, res_val_occur, [0,1])\n",
    "print('Matriz de confusão:')\n",
    "print(cm_occur)"
   ]
  },
  {
   "cell_type": "markdown",
   "metadata": {},
   "source": [
    "## Frequency"
   ]
  },
  {
   "cell_type": "code",
   "execution_count": 50,
   "metadata": {},
   "outputs": [
    {
     "name": "stdout",
     "output_type": "stream",
     "text": [
      "Matriz de confusão:\n",
      "[[ 91  58]\n",
      " [102  16]]\n"
     ]
    }
   ],
   "source": [
    "pAtrSPAM_frequ, pAtrHAM_frequ = calcularProbabilidades(X_frequ_train,Y_frequ_train.T[0])\n",
    "pSPAM_frequ = sum(Y_frequ_train==1)/len(Y_frequ_train) \n",
    "pHAM_frequ = sum(Y_frequ_train==0)/len(Y_frequ_train)\n",
    "\n",
    "res_val_frequ = []\n",
    "for i in X_frequ_val:\n",
    "    result, probSPAM_frequ, probHAM_frequ = classificacao(i,pSPAM_frequ,pHAM_frequ,pAtrSPAM_frequ,pAtrHAM_frequ)\n",
    "    res_val_frequ.append(result)\n",
    "    \n",
    "cm_frequ = get_confusionMatrix(Y_frequ_val, res_val_frequ, [0,1])\n",
    "print('Matriz de confusão:')\n",
    "print(cm_frequ)"
   ]
  },
  {
   "cell_type": "markdown",
   "metadata": {},
   "source": [
    "## TF_IDF"
   ]
  },
  {
   "cell_type": "code",
   "execution_count": 51,
   "metadata": {},
   "outputs": [
    {
     "name": "stdout",
     "output_type": "stream",
     "text": [
      "Matriz de confusão:\n",
      "[[114  35]\n",
      " [111   7]]\n"
     ]
    }
   ],
   "source": [
    "pAtrSPAM_tfidf, pAtrHAM_tfidf = calcularProbabilidades(X_tfidf_train,Y_tfidf_train.T[0])\n",
    "pSPAM_tfidf = sum(Y_tfidf_train==1)/len(Y_tfidf_train) \n",
    "pHAM_tfidf = sum(Y_tfidf_train==0)/len(Y_tfidf_train)\n",
    "\n",
    "res_val_tfidf = []\n",
    "for i in X_tfidf_val:\n",
    "    result, probSPAM_tfidf, probHAM_tfidf = classificacao(i,pSPAM_tfidf,pHAM_tfidf,pAtrSPAM_tfidf,pAtrHAM_tfidf)\n",
    "    res_val_tfidf.append(result)\n",
    "    \n",
    "cm_tfidf = get_confusionMatrix(Y_tfidf_val, res_val_tfidf, [0,1])\n",
    "print('Matriz de confusão:')\n",
    "print(cm_tfidf)"
   ]
  },
  {
   "cell_type": "markdown",
   "metadata": {},
   "source": [
    "## F1 Scores"
   ]
  },
  {
   "cell_type": "code",
   "execution_count": 52,
   "metadata": {},
   "outputs": [
    {
     "name": "stdout",
     "output_type": "stream",
     "text": [
      "Tratamento Occurrency: 0.5406976744186047\n",
      "Tratamento Frequency: 0.5321637426900585\n",
      "Tratamento TF-IDF: 0.6096256684491979\n"
     ]
    }
   ],
   "source": [
    "cm_nb = {'Occurrency': cm_occur,\n",
    "         'Frequency': cm_frequ,\n",
    "         'TF-IDF': cm_tfidf}\n",
    "\n",
    "for k, cm in cm_nb.items():\n",
    "    vp=cm[0,0] # quantidade de verdadeiros positivos\n",
    "    vn=cm[1,1] # quantidade de verdadeiros negativos\n",
    "    fp=cm[1,0] # quantidade de falsos positivos\n",
    "    fn=cm[0,1] # quantidade de falsos negativos\n",
    "    \n",
    "    recall = vp/(vp+fn)\n",
    "    precision = vp/(vp+fp)\n",
    "    \n",
    "    f1 = 2 * (precision * recall) / (precision + recall)\n",
    "    print('Tratamento {}: {}'.format(k, f1))"
   ]
  },
  {
   "cell_type": "markdown",
   "metadata": {},
   "source": [
    "Verificamos que o modelo que usa o modo de tratamento _TF-IDF_ é o que se sai melhor de acordo com a métrica escolhida."
   ]
  },
  {
   "cell_type": "code",
   "execution_count": 53,
   "metadata": {},
   "outputs": [
    {
     "data": {
      "image/png": "[encoded data removed]",
      "text/plain": [
       "<Figure size 720x432 with 1 Axes>"
      ]
     },
     "metadata": {
      "needs_background": "light"
     },
     "output_type": "display_data"
    }
   ],
   "source": [
    "def curva_aprendizado_nb(X, Y, Xval, Yval):\n",
    "\n",
    "    # inicializa as listas que guardarao a performance no treinamento e na validacao\n",
    "    perf_train = []\n",
    "    perf_val = []\n",
    "    \n",
    "    num_rows = len(X)\n",
    "    \n",
    "    for i in range(200,num_rows, 200):\n",
    "        x_train = X[0:i,:]\n",
    "        y_train = Y[0:i]\n",
    "        \n",
    "        pAtrSPAM_tfidf, pAtrHAM_tfidf = calcularProbabilidades(x_train,y_train.T[0])\n",
    "        pSPAM_tfidf = sum(Y==1)/len(Y) \n",
    "        pHAM_tfidf = sum(Y==0)/len(Y)\n",
    "        \n",
    "        #train\n",
    "        pred_train = []\n",
    "        for i in x_train:\n",
    "            result, probSPAM_tfidf, probHAM_tfidf = classificacao(i,pSPAM_tfidf,pHAM_tfidf,pAtrSPAM_tfidf,pAtrHAM_tfidf)\n",
    "            pred_train.append(result)            \n",
    "        \n",
    "        #validation\n",
    "        pred_val = []\n",
    "        for i in Xval:\n",
    "            result, probSPAM_tfidf, probHAM_tfidf = classificacao(i,pSPAM_tfidf,pHAM_tfidf,pAtrSPAM_tfidf,pAtrHAM_tfidf)\n",
    "            pred_val.append(result)         \n",
    "        \n",
    "        #scores\n",
    "        #train\n",
    "        cm_train = get_confusionMatrix(y_train, pred_train, [0,1])\n",
    "        vp_train=cm_train[0,0] # quantidade de verdadeiros positivos\n",
    "        vn_train=cm_train[1,1] # quantidade de verdadeiros negativos\n",
    "        fp_train=cm_train[1,0] # quantidade de falsos positivos\n",
    "        fn_train=cm_train[0,1] # quantidade de falsos negativos\n",
    "        \n",
    "        recall_train = vp_train/(vp_train+fn_train)\n",
    "        precision_train = vp_train/(vp_train+fp_train)\n",
    "    \n",
    "        f1_train = 2 * (precision_train * recall_train) / (precision_train + recall_train)               \n",
    "        #val     \n",
    "        cm_val = get_confusionMatrix(Yval, pred_val, [0,1])\n",
    "        vp_val=cm_val[0,0] # quantidade de verdadeiros positivos\n",
    "        vn_val=cm_val[1,1] # quantidade de verdadeiros negativos\n",
    "        fp_val=cm_val[1,0] # quantidade de falsos positivos\n",
    "        fn_val=cm_val[0,1] # quantidade de falsos negativos\n",
    "        \n",
    "        recall_val = vp_val/(vp_val+fn_val)\n",
    "        precision_val = vp_val/(vp_val+fp_val)\n",
    "    \n",
    "        f1_val = 2 * (precision_val * recall_val) / (precision_val + recall_val)         \n",
    "                \n",
    "        perf_train.append(f1_train)\n",
    "        perf_val.append(f1_val)\n",
    "       \n",
    "    # Define o tamanho da figura \n",
    "    plt.figure(figsize=(10,6))\n",
    "\n",
    "    # Plota os dados\n",
    "    plt.plot(perf_train, color='blue', linestyle='-', linewidth=1.5, label='Treino') \n",
    "    plt.plot(perf_val, color='red', linestyle='-', linewidth=1.5, label='Validação')\n",
    "\n",
    "    # Define os nomes do eixo x e do eixo y\n",
    "    plt.xlabel(r'# Qtd. de dados de treinamento',fontsize='x-large') \n",
    "    plt.ylabel(r'F1 Score',fontsize='x-large') \n",
    "\n",
    "    # Define o título do gráfico\n",
    "    plt.title(r'Curva de aprendizado', fontsize='x-large')\n",
    "\n",
    "    # Acrescenta um grid no gráfico\n",
    "    plt.grid(axis='both')\n",
    "\n",
    "    # Plota a legenda\n",
    "    plt.legend()\n",
    "    \n",
    "    plt.show()\n",
    "    \n",
    "curva_aprendizado_nb(X_tfidf_train, Y_tfidf_train, X_tfidf_val, Y_tfidf_val)"
   ]
  },
  {
   "cell_type": "markdown",
   "metadata": {},
   "source": [
    "Se utilizarmos o _dataset_ de teste com o tratamento que obteve o melhor score F1, obteremos o resultado a seguir:"
   ]
  },
  {
   "cell_type": "code",
   "execution_count": 54,
   "metadata": {},
   "outputs": [
    {
     "name": "stdout",
     "output_type": "stream",
     "text": [
      "Matriz de confusão:\n",
      "[[147  39]\n",
      " [139   8]]\n",
      "Score F1: 0.6228813559322034\n"
     ]
    }
   ],
   "source": [
    "pAtrSPAM_tfidf, pAtrHAM_tfidf = calcularProbabilidades(X_tfidf_train,Y_tfidf_train.T[0])\n",
    "pSPAM_tfidf = sum(Y_tfidf_train==1)/len(Y_tfidf_train) \n",
    "pHAM_tfidf = sum(Y_tfidf_train==0)/len(Y_tfidf_train)\n",
    "\n",
    "res_val_tfidf = []\n",
    "for i in X_tfidf_test:\n",
    "    result, probSPAM_tfidf, probHAM_tfidf = classificacao(i,pSPAM_tfidf,pHAM_tfidf,pAtrSPAM_tfidf,pAtrHAM_tfidf)\n",
    "    res_val_tfidf.append(result)\n",
    "    \n",
    "cm = get_confusionMatrix(Y_tfidf_test, res_val_tfidf, [0,1])\n",
    "print('Matriz de confusão:')\n",
    "print(cm)\n",
    "\n",
    "vp=cm[0,0] # quantidade de verdadeiros positivos\n",
    "vn=cm[1,1] # quantidade de verdadeiros negativos\n",
    "fp=cm[1,0] # quantidade de falsos positivos\n",
    "fn=cm[0,1] # quantidade de falsos negativos    \n",
    "recall = vp/(vp+fn)\n",
    "precision = vp/(vp+fp)\n",
    "    \n",
    "f1 = 2 * (precision * recall) / (precision + recall)\n",
    "\n",
    "print('Score F1: {}'.format(f1))"
   ]
  },
  {
   "cell_type": "markdown",
   "metadata": {},
   "source": [
    "Apesar de ser um score surpreendentemente baixo, o modelo performa melhor que um classificador aleatório.\n",
    "<br>\n",
    "Verficamos que os scores obtidos com o _dataset_ de validação e o _dataset_ de teste são parecidos, o que é um indicativo de que não há overfit."
   ]
  }
 ],
 "metadata": {
  "kernelspec": {
   "display_name": "Python 3",
   "language": "python",
   "name": "python3"
  },
  "language_info": {
   "codemirror_mode": {
    "name": "ipython",
    "version": 3
   },
   "file_extension": ".py",
   "mimetype": "text/x-python",
   "name": "python",
   "nbconvert_exporter": "python",
   "pygments_lexer": "ipython3",
   "version": "3.7.3"
  }
 },
 "nbformat": 4,
 "nbformat_minor": 1
}
