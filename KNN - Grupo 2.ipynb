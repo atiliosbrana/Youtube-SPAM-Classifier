{
 "cells": [
  {
   "cell_type": "markdown",
   "metadata": {},
   "source": [
    "# YouTube Spam Collection v. 1"
   ]
  },
  {
   "cell_type": "markdown",
   "metadata": {},
   "source": [
    "## Grupo 2\n",
    "Alberto Atilio Sbrana Junior\n",
    "<br>\n",
    "Luiz Barreto Pedro de Alcântara\n",
    "<br>\n",
    "Priscila Portela Costa"
   ]
  },
  {
   "cell_type": "markdown",
   "metadata": {},
   "source": [
    "# Problema"
   ]
  },
  {
   "cell_type": "markdown",
   "metadata": {},
   "source": [
    "Trata-se de um problema de classificação binária sobre comentários de vídeos no Youtube.\n",
    "<br>\n",
    "Há no total 5 arquivos, separados por artista:\n",
    "- Psy\n",
    "- Katy Perry\n",
    "- LMFAO\n",
    "- Eminem\n",
    "- Shakira"
   ]
  },
  {
   "cell_type": "markdown",
   "metadata": {},
   "source": [
    "# Bibliotecas"
   ]
  },
  {
   "cell_type": "code",
   "execution_count": 7,
   "metadata": {},
   "outputs": [],
   "source": [
    "import pandas as pd #manipulação de dataframes\n",
    "import numpy as np #manipulacao matricial\n",
    "import seaborn as sns #visualização\n",
    "import matplotlib.pyplot as plt #visualização\n",
    "\n",
    "# importa algumas biblioteca para plotar dados em 3D        \n",
    "from mpl_toolkits.mplot3d import Axes3D\n",
    "from matplotlib.patches import Rectangle\n",
    "from pylab import *\n",
    "\n",
    "import scipy.optimize  #otimizacao de parametros\n",
    "\n",
    "from ML_library import * #biblioteca criada pelo grupo 2"
   ]
  },
  {
   "cell_type": "markdown",
   "metadata": {},
   "source": [
    "# Modelo 1: K-Nearest Neighbors (K-NN)"
   ]
  },
  {
   "cell_type": "markdown",
   "metadata": {},
   "source": [
    "Para este tipo de algoritmo, devemos identificar qual o melhor número de K (vizinhos)."
   ]
  },
  {
   "cell_type": "markdown",
   "metadata": {},
   "source": [
    "## Carregando os _datasets_"
   ]
  },
  {
   "cell_type": "code",
   "execution_count": 8,
   "metadata": {},
   "outputs": [],
   "source": [
    "#occurency\n",
    "X_occur_train = pd.read_csv('X_occurrency_train.csv', header=None)\n",
    "X_occur_test = pd.read_csv('X_occurrency_test.csv', header=None)\n",
    "X_occur_val = pd.read_csv('X_occurrency_validation.csv', header=None)\n",
    "\n",
    "Y_occur_train = pd.read_csv('Y_occurrency_train.csv', header=None)\n",
    "Y_occur_test = pd.read_csv('Y_occurrency_test.csv', header=None)\n",
    "Y_occur_val = pd.read_csv('Y_occurrency_validation.csv', header=None)\n",
    "\n",
    "#frequency\n",
    "X_frequ_train = pd.read_csv('X_frequency_train.csv', header=None)\n",
    "X_frequ_test = pd.read_csv('X_frequency_test.csv', header=None)\n",
    "X_frequ_val = pd.read_csv('X_frequency_validation.csv', header=None)\n",
    "\n",
    "Y_frequ_train = pd.read_csv('Y_frequency_train.csv', header=None)\n",
    "Y_frequ_test = pd.read_csv('Y_frequency_test.csv', header=None)\n",
    "Y_frequ_val = pd.read_csv('Y_frequency_validation.csv', header=None)\n",
    "\n",
    "#tf_idf\n",
    "X_tfidf_train = pd.read_csv('X_tfidf_train.csv', header=None)\n",
    "X_tfidf_test = pd.read_csv('X_tfidf_test.csv', header=None)\n",
    "X_tfidf_val = pd.read_csv('X_tfidf_validation.csv', header=None)\n",
    "\n",
    "Y_tfidf_train = pd.read_csv('Y_tfidf_train.csv', header=None)\n",
    "Y_tfidf_test = pd.read_csv('Y_tfidf_test.csv', header=None)\n",
    "Y_tfidf_val = pd.read_csv('Y_tfidf_validation.csv', header=None)"
   ]
  },
  {
   "cell_type": "markdown",
   "metadata": {},
   "source": [
    "## Funções Auxiliares"
   ]
  },
  {
   "cell_type": "code",
   "execution_count": 9,
   "metadata": {},
   "outputs": [],
   "source": [
    "def prep_Y(y):\n",
    "    return np.array(y.values.flatten(), dtype = int)\n",
    "\n",
    "#Normalização min-max\n",
    "def min_max_scaler(x, scaler = None):\n",
    "    if scaler == None:\n",
    "        x_scaler = [x.min(), x.max()]\n",
    "        x_scaled = (x - x.min()) / (x.max() - x.min())\n",
    "        x_scaled.fillna(0, inplace = True)\n",
    "        return x_scaler, x_scaled\n",
    "    else:\n",
    "        x_scaled = (x - scaler[0]) / (scaler[1] - scaler[0]).replace(0, np.inf)\n",
    "        x_scaled = x_scaled.replace([np.inf, -np.inf], np.nan).fillna(0)\n",
    "        return x_scaled"
   ]
  },
  {
   "cell_type": "markdown",
   "metadata": {},
   "source": [
    "### Lista de K vizinhos avaliados"
   ]
  },
  {
   "cell_type": "code",
   "execution_count": 10,
   "metadata": {},
   "outputs": [],
   "source": [
    "K = list(range(20,400,60))"
   ]
  },
  {
   "cell_type": "code",
   "execution_count": 11,
   "metadata": {},
   "outputs": [
    {
     "data": {
      "text/plain": [
       "[20, 80, 140, 200, 260, 320, 380]"
      ]
     },
     "execution_count": 11,
     "metadata": {},
     "output_type": "execute_result"
    }
   ],
   "source": [
    "K"
   ]
  },
  {
   "cell_type": "markdown",
   "metadata": {},
   "source": [
    "## Occurrency"
   ]
  },
  {
   "cell_type": "code",
   "execution_count": 13,
   "metadata": {},
   "outputs": [],
   "source": [
    "Y_occur_train, Y_occur_val = prep_Y(Y_occur_train), prep_Y(Y_occur_val)    \n",
    "\n",
    "X_occur_scaler, X_train_occur_scaled = min_max_scaler(X_occur_train)\n",
    "X_val_occur_scaled = min_max_scaler(X_occur_val, X_occur_scaler)\n",
    "X_train_occur_scaled, X_val_occur_scaled = X_train_occur_scaled.values, X_val_occur_scaled.values"
   ]
  },
  {
   "cell_type": "code",
   "execution_count": 14,
   "metadata": {},
   "outputs": [
    {
     "name": "stdout",
     "output_type": "stream",
     "text": [
      "Número de vizinhos: 20\n",
      "[[140   9]\n",
      " [ 39  79]]\n",
      "---\n",
      "Número de vizinhos: 80\n",
      "[[138  11]\n",
      " [ 54  64]]\n",
      "---\n",
      "Número de vizinhos: 140\n",
      "[[138  11]\n",
      " [ 59  59]]\n",
      "---\n",
      "Número de vizinhos: 200\n",
      "[[142   7]\n",
      " [ 73  45]]\n",
      "---\n",
      "Número de vizinhos: 260\n",
      "[[147   2]\n",
      " [103  15]]\n",
      "---\n",
      "Número de vizinhos: 320\n",
      "[[148   1]\n",
      " [109   9]]\n",
      "---\n",
      "Número de vizinhos: 380\n",
      "[[149   0]\n",
      " [113   5]]\n",
      "---\n"
     ]
    }
   ],
   "source": [
    "k_cm_occur = {}\n",
    "\n",
    "for i_K in K:\n",
    "    print('Número de vizinhos: {}'.format(i_K))\n",
    "    y_pred = []\n",
    "    for sample in X_val_occur_scaled:\n",
    "        y_pred_sample = knn(sample, X_train_occur_scaled, Y_occur_train, i_K)\n",
    "        y_pred.append(y_pred_sample)\n",
    "        \n",
    "    cm = get_confusionMatrix(Y_occur_val, y_pred, [0,1])\n",
    "    k_cm_occur[i_K] = cm    \n",
    "    print(cm)\n",
    "    print('---')"
   ]
  },
  {
   "cell_type": "markdown",
   "metadata": {},
   "source": [
    "## Frequency"
   ]
  },
  {
   "cell_type": "code",
   "execution_count": 15,
   "metadata": {},
   "outputs": [],
   "source": [
    "Y_frequ_train, Y_frequ_val = prep_Y(Y_frequ_train), prep_Y(Y_frequ_val)    \n",
    "\n",
    "X_frequ_scaler, X_train_frequ_scaled = min_max_scaler(X_frequ_train)\n",
    "X_val_frequ_scaled = min_max_scaler(X_frequ_val, X_frequ_scaler)\n",
    "X_train_frequ_scaled, X_val_frequ_scaled = X_train_frequ_scaled.values, X_val_frequ_scaled.values"
   ]
  },
  {
   "cell_type": "code",
   "execution_count": 16,
   "metadata": {},
   "outputs": [
    {
     "name": "stdout",
     "output_type": "stream",
     "text": [
      "Número de vizinhos: 20\n",
      "[[98 51]\n",
      " [25 93]]\n",
      "---\n",
      "Número de vizinhos: 80\n",
      "[[107  42]\n",
      " [ 39  79]]\n",
      "---\n",
      "Número de vizinhos: 140\n",
      "[[107  42]\n",
      " [ 49  69]]\n",
      "---\n",
      "Número de vizinhos: 200\n",
      "[[107  42]\n",
      " [ 52  66]]\n",
      "---\n",
      "Número de vizinhos: 260\n",
      "[[140   9]\n",
      " [ 67  51]]\n",
      "---\n",
      "Número de vizinhos: 320\n",
      "[[148   1]\n",
      " [ 83  35]]\n",
      "---\n",
      "Número de vizinhos: 380\n",
      "[[148   1]\n",
      " [ 90  28]]\n",
      "---\n"
     ]
    }
   ],
   "source": [
    "k_cm_frequ = {}\n",
    "\n",
    "for i_K in K:\n",
    "    print('Número de vizinhos: {}'.format(i_K))\n",
    "    y_pred = []\n",
    "    for sample in X_val_frequ_scaled:\n",
    "        y_pred_sample = knn(sample, X_train_frequ_scaled, Y_frequ_train, i_K)\n",
    "        y_pred.append(y_pred_sample)\n",
    "        \n",
    "    cm = get_confusionMatrix(Y_frequ_val, y_pred, [0,1])\n",
    "    k_cm_frequ[i_K] = cm    \n",
    "    print(cm)\n",
    "    print('---')"
   ]
  },
  {
   "cell_type": "markdown",
   "metadata": {},
   "source": [
    "## TF-IDF"
   ]
  },
  {
   "cell_type": "code",
   "execution_count": 17,
   "metadata": {},
   "outputs": [],
   "source": [
    "Y_tfidf_train, Y_tfidf_val = prep_Y(Y_tfidf_train), prep_Y(Y_tfidf_val)    \n",
    "\n",
    "X_tfidf_scaler, X_train_tfidf_scaled = min_max_scaler(X_tfidf_train)\n",
    "X_val_tfidf_scaled = min_max_scaler(X_tfidf_val, X_tfidf_scaler)\n",
    "X_train_tfidf_scaled, X_val_tfidf_scaled = X_train_tfidf_scaled.values, X_val_tfidf_scaled.values"
   ]
  },
  {
   "cell_type": "code",
   "execution_count": 18,
   "metadata": {},
   "outputs": [
    {
     "name": "stdout",
     "output_type": "stream",
     "text": [
      "Número de vizinhos: 20\n",
      "[[138  11]\n",
      " [ 53  65]]\n",
      "---\n",
      "Número de vizinhos: 80\n",
      "[[130  19]\n",
      " [ 59  59]]\n",
      "---\n",
      "Número de vizinhos: 140\n",
      "[[123  26]\n",
      " [ 59  59]]\n",
      "---\n",
      "Número de vizinhos: 200\n",
      "[[118  31]\n",
      " [ 60  58]]\n",
      "---\n",
      "Número de vizinhos: 260\n",
      "[[147   2]\n",
      " [ 87  31]]\n",
      "---\n",
      "Número de vizinhos: 320\n",
      "[[149   0]\n",
      " [ 98  20]]\n",
      "---\n",
      "Número de vizinhos: 380\n",
      "[[148   1]\n",
      " [107  11]]\n",
      "---\n"
     ]
    }
   ],
   "source": [
    "k_cm_tfidf = {}\n",
    "\n",
    "for i_K in K:\n",
    "    print('Número de vizinhos: {}'.format(i_K))\n",
    "    y_pred = []\n",
    "    for sample in X_val_tfidf_scaled:\n",
    "        y_pred_sample = knn(sample, X_train_tfidf_scaled, Y_tfidf_train, i_K)\n",
    "        y_pred.append(y_pred_sample)\n",
    "        \n",
    "    cm = get_confusionMatrix(Y_tfidf_val, y_pred, [0,1])\n",
    "    k_cm_tfidf[i_K] = cm    \n",
    "    print(cm)\n",
    "    print('---')"
   ]
  },
  {
   "cell_type": "markdown",
   "metadata": {},
   "source": [
    "## Análise das matrizes de confusão obtidas"
   ]
  },
  {
   "cell_type": "code",
   "execution_count": 19,
   "metadata": {},
   "outputs": [
    {
     "name": "stdout",
     "output_type": "stream",
     "text": [
      "Preprocessamento: Occurrency\n",
      "20 vizinhos: 0.8536585365853658\n",
      "80 vizinhos: 0.809384164222874\n",
      "140 vizinhos: 0.7976878612716763\n",
      "200 vizinhos: 0.7802197802197802\n",
      "260 vizinhos: 0.736842105263158\n",
      "320 vizinhos: 0.7290640394088669\n",
      "380 vizinhos: 0.7250608272506083\n"
     ]
    }
   ],
   "source": [
    "print('Preprocessamento: Occurrency')\n",
    "for k, cm in k_cm_occur.items():\n",
    "    vp=cm[0,0] # quantidade de verdadeiros positivos\n",
    "    vn=cm[1,1] # quantidade de verdadeiros negativos\n",
    "    fp=cm[1,0] # quantidade de falsos positivos\n",
    "    fn=cm[0,1] # quantidade de falsos negativos\n",
    "    \n",
    "    recall = vp/(vp+fn)\n",
    "    precision = vp/(vp+fp)\n",
    "    \n",
    "    f1 = 2 * (precision * recall) / (precision + recall)\n",
    "    print('{} vizinhos: {}'.format(k, f1))"
   ]
  },
  {
   "cell_type": "code",
   "execution_count": 20,
   "metadata": {},
   "outputs": [
    {
     "name": "stdout",
     "output_type": "stream",
     "text": [
      "Preprocessamento: Frequency\n",
      "20 vizinhos: 0.7205882352941176\n",
      "80 vizinhos: 0.7254237288135593\n",
      "140 vizinhos: 0.7016393442622951\n",
      "200 vizinhos: 0.6948051948051949\n",
      "260 vizinhos: 0.7865168539325843\n",
      "320 vizinhos: 0.7789473684210526\n",
      "380 vizinhos: 0.764857881136951\n"
     ]
    }
   ],
   "source": [
    "print('Preprocessamento: Frequency')\n",
    "for k, cm in k_cm_frequ.items():\n",
    "    vp=cm[0,0] # quantidade de verdadeiros positivos\n",
    "    vn=cm[1,1] # quantidade de verdadeiros negativos\n",
    "    fp=cm[1,0] # quantidade de falsos positivos\n",
    "    fn=cm[0,1] # quantidade de falsos negativos\n",
    "    \n",
    "    recall = vp/(vp+fn)\n",
    "    precision = vp/(vp+fp)\n",
    "    \n",
    "    f1 = 2 * (precision * recall) / (precision + recall)\n",
    "    print('{} vizinhos: {}'.format(k, f1))"
   ]
  },
  {
   "cell_type": "code",
   "execution_count": 21,
   "metadata": {},
   "outputs": [
    {
     "name": "stdout",
     "output_type": "stream",
     "text": [
      "Preprocessamento: TF-IDF\n",
      "20 vizinhos: 0.8117647058823528\n",
      "80 vizinhos: 0.7692307692307692\n",
      "140 vizinhos: 0.743202416918429\n",
      "200 vizinhos: 0.7217125382262997\n",
      "260 vizinhos: 0.7676240208877284\n",
      "320 vizinhos: 0.7525252525252526\n",
      "380 vizinhos: 0.7326732673267328\n"
     ]
    }
   ],
   "source": [
    "print('Preprocessamento: TF-IDF')\n",
    "for k, cm in k_cm_tfidf.items():\n",
    "    vp=cm[0,0] # quantidade de verdadeiros positivos\n",
    "    vn=cm[1,1] # quantidade de verdadeiros negativos\n",
    "    fp=cm[1,0] # quantidade de falsos positivos\n",
    "    fn=cm[0,1] # quantidade de falsos negativos\n",
    "    \n",
    "    recall = vp/(vp+fn)\n",
    "    precision = vp/(vp+fp)\n",
    "    \n",
    "    f1 = 2 * (precision * recall) / (precision + recall)\n",
    "    print('{} vizinhos: {}'.format(k, f1))"
   ]
  },
  {
   "cell_type": "markdown",
   "metadata": {},
   "source": [
    "Analisando os resultados, vamos escolher o tratamento e a matriz de confusão que apresenta a melhor pontuação na forma de medição escolhida.\n",
    "Com isso, temos que o tratamento _occurrency_, com o número de vizinhos igual a _20_, é a melhor escolha.\n",
    "<br>\n",
    "<br>\n",
    "Para essa combinação, vamos plotar a curva de aprendizado."
   ]
  },
  {
   "cell_type": "code",
   "execution_count": 22,
   "metadata": {},
   "outputs": [
    {
     "data": {
      "image/png": "[encoded data removed]",
      "text/plain": [
       "<Figure size 720x432 with 1 Axes>"
      ]
     },
     "metadata": {
      "needs_background": "light"
     },
     "output_type": "display_data"
    }
   ],
   "source": [
    "def curva_aprendizado_knn(X, Y, Xval, Yval, K):\n",
    "\n",
    "    # inicializa as listas que guardarao a performance no treinamento e na validacao\n",
    "    perf_train = []\n",
    "    perf_val = []\n",
    "    \n",
    "    num_rows = len(X)\n",
    "    \n",
    "    for i in range(100,num_rows, 200):\n",
    "        x_train = X[0:i,:]\n",
    "        y_train = Y[0:i]\n",
    "        \n",
    "        #train\n",
    "        pred_train = []\n",
    "        for sample in x_train:\n",
    "            y_pred_sample = knn(sample, x_train, y_train, K)\n",
    "            pred_train.append(y_pred_sample)            \n",
    "        \n",
    "        #validation\n",
    "        pred_val = []\n",
    "        for sample in Xval:\n",
    "            y_val_sample = knn(sample, x_train, y_train, K)\n",
    "            pred_val.append(y_val_sample)          \n",
    "        \n",
    "        #scores\n",
    "        #train\n",
    "        cm_train = get_confusionMatrix(y_train, pred_train, [0,1])\n",
    "        vp_train=cm_train[0,0] # quantidade de verdadeiros positivos\n",
    "        vn_train=cm_train[1,1] # quantidade de verdadeiros negativos\n",
    "        fp_train=cm_train[1,0] # quantidade de falsos positivos\n",
    "        fn_train=cm_train[0,1] # quantidade de falsos negativos\n",
    "        \n",
    "        recall_train = vp_train/(vp_train+fn_train)\n",
    "        precision_train = vp_train/(vp_train+fp_train)\n",
    "    \n",
    "        f1_train = 2 * (precision_train * recall_train) / (precision_train + recall_train)               \n",
    "        #val     \n",
    "        cm_val = get_confusionMatrix(Yval, pred_val, [0,1])\n",
    "        vp_val=cm_val[0,0] # quantidade de verdadeiros positivos\n",
    "        vn_val=cm_val[1,1] # quantidade de verdadeiros negativos\n",
    "        fp_val=cm_val[1,0] # quantidade de falsos positivos\n",
    "        fn_val=cm_val[0,1] # quantidade de falsos negativos\n",
    "        \n",
    "        recall_val = vp_val/(vp_val+fn_val)\n",
    "        precision_val = vp_val/(vp_val+fp_val)\n",
    "    \n",
    "        f1_val = 2 * (precision_val * recall_val) / (precision_val + recall_val)         \n",
    "                \n",
    "        perf_train.append(f1_train)\n",
    "        perf_val.append(f1_val)\n",
    "       \n",
    "    # Define o tamanho da figura \n",
    "    plt.figure(figsize=(10,6))\n",
    "\n",
    "    # Plota os dados\n",
    "    plt.plot(perf_train, color='blue', linestyle='-', linewidth=1.5, label='Treino') \n",
    "    plt.plot(perf_val, color='red', linestyle='-', linewidth=1.5, label='Validação')\n",
    "\n",
    "    # Define os nomes do eixo x e do eixo y\n",
    "    plt.xlabel(r'# Qtd. de dados de treinamento',fontsize='x-large') \n",
    "    plt.ylabel(r'F1 Score',fontsize='x-large') \n",
    "\n",
    "    # Define o título do gráfico\n",
    "    plt.title(r'Curva de aprendizado', fontsize='x-large')\n",
    "\n",
    "    # Acrescenta um grid no gráfico\n",
    "    plt.grid(axis='both')\n",
    "\n",
    "    # Plota a legenda\n",
    "    plt.legend()\n",
    "    \n",
    "    plt.show()\n",
    "    \n",
    "curva_aprendizado_knn(X_train_occur_scaled, Y_occur_train, X_val_occur_scaled, Y_occur_val, 380)"
   ]
  },
  {
   "cell_type": "markdown",
   "metadata": {},
   "source": [
    "Povemos verificar que, quanto maior a quantidade de dados no conjunto de treinamento, há um queda no score do conjunto de treino e um aumento no score do conjunto de teste."
   ]
  },
  {
   "cell_type": "markdown",
   "metadata": {},
   "source": [
    "Utilizando o parâmetro escolhido de 20 vizinhos no _dataset_ de teste, obtemos o resultado a seguir."
   ]
  },
  {
   "cell_type": "code",
   "execution_count": 23,
   "metadata": {},
   "outputs": [],
   "source": [
    "X_test_frequ_scaled = min_max_scaler(X_frequ_test, X_frequ_scaler)\n",
    "Y_frequ_test = prep_Y(Y_frequ_test)"
   ]
  },
  {
   "cell_type": "code",
   "execution_count": 24,
   "metadata": {},
   "outputs": [
    {
     "name": "stdout",
     "output_type": "stream",
     "text": [
      "Número de vizinhos: 20\n",
      "[[148   1]\n",
      " [118   0]]\n",
      "---\n"
     ]
    }
   ],
   "source": [
    "print('Número de vizinhos: {}'.format(20))\n",
    "y_pred = []\n",
    "for sample in X_test_frequ_scaled:\n",
    "    y_pred_sample = knn(sample, X_train_frequ_scaled, Y_frequ_train, 20)\n",
    "    y_pred.append(y_pred_sample)\n",
    "        \n",
    "cm = get_confusionMatrix(Y_frequ_val, y_pred, [0,1])\n",
    "print(cm)\n",
    "print('---')"
   ]
  },
  {
   "cell_type": "code",
   "execution_count": 25,
   "metadata": {},
   "outputs": [
    {
     "name": "stdout",
     "output_type": "stream",
     "text": [
      "F1 score para 20 vizinhos: 0.7132530120481928\n"
     ]
    }
   ],
   "source": [
    "vp=cm[0,0] # quantidade de verdadeiros positivos\n",
    "vn=cm[1,1] # quantidade de verdadeiros negativos\n",
    "fp=cm[1,0] # quantidade de falsos positivos\n",
    "fn=cm[0,1] # quantidade de falsos negativos\n",
    "\n",
    "recall = vp/(vp+fn)\n",
    "precision = vp/(vp+fp)\n",
    "    \n",
    "f1 = 2 * (precision * recall) / (precision + recall)\n",
    "print('F1 score para {} vizinhos: {}'.format(20, f1))"
   ]
  },
  {
   "cell_type": "markdown",
   "metadata": {},
   "source": [
    "Apesar de não ser um bom score, já está acima de um classificador aleatório."
   ]
  }
 ],
 "metadata": {
  "kernelspec": {
   "display_name": "Python 3",
   "language": "python",
   "name": "python3"
  },
  "language_info": {
   "codemirror_mode": {
    "name": "ipython",
    "version": 3
   },
   "file_extension": ".py",
   "mimetype": "text/x-python",
   "name": "python",
   "nbconvert_exporter": "python",
   "pygments_lexer": "ipython3",
   "version": "3.7.3"
  }
 },
 "nbformat": 4,
 "nbformat_minor": 1
}
