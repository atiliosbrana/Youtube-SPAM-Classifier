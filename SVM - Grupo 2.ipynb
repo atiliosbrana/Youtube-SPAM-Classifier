{
 "cells": [
  {
   "cell_type": "markdown",
   "metadata": {},
   "source": [
    "# YouTube Spam Collection v. 1"
   ]
  },
  {
   "cell_type": "markdown",
   "metadata": {},
   "source": [
    "## Grupo 2\n",
    "Alberto Atilio Sbrana Junior\n",
    "<br>\n",
    "Luiz Barreto Pedro de Alcântara\n",
    "<br>\n",
    "Priscila Portela Costa"
   ]
  },
  {
   "cell_type": "markdown",
   "metadata": {},
   "source": [
    "# Problema"
   ]
  },
  {
   "cell_type": "markdown",
   "metadata": {},
   "source": [
    "Trata-se de um problema de classificação binária sobre comentários de vídeos no Youtube.\n",
    "<br>\n",
    "Há no total 5 arquivos, separados por artista:\n",
    "- Psy\n",
    "- Katy Perry\n",
    "- LMFAO\n",
    "- Eminem\n",
    "- Shakira"
   ]
  },
  {
   "cell_type": "markdown",
   "metadata": {},
   "source": [
    "# Bibliotecas"
   ]
  },
  {
   "cell_type": "code",
   "execution_count": 37,
   "metadata": {},
   "outputs": [],
   "source": [
    "import pandas as pd\n",
    "import numpy as np\n",
    "\n",
    "import svmutil\n",
    "from svmutil import svm_read_problem\n",
    "from svmutil import svm_problem\n",
    "from svmutil import svm_parameter\n",
    "from svmutil import svm_train\n",
    "from svmutil import svm_predict\n",
    "from svmutil import svm_save_model\n",
    "import matplotlib.pyplot as plt #visualização\n",
    "from ML_library import *"
   ]
  },
  {
   "cell_type": "markdown",
   "metadata": {},
   "source": [
    "# Modelo 5: Support Vector Machines"
   ]
  },
  {
   "cell_type": "markdown",
   "metadata": {},
   "source": [
    "## Carregando os _datasets_"
   ]
  },
  {
   "cell_type": "code",
   "execution_count": 38,
   "metadata": {},
   "outputs": [],
   "source": [
    "#occurency\n",
    "X_occur_train = pd.read_csv('X_occurrency_train.csv', header=None)\n",
    "X_occur_test = pd.read_csv('X_occurrency_test.csv', header=None)\n",
    "X_occur_val = pd.read_csv('X_occurrency_validation.csv', header=None)\n",
    "\n",
    "Y_occur_train = pd.read_csv('Y_occurrency_train.csv', header=None)\n",
    "Y_occur_test = pd.read_csv('Y_occurrency_test.csv', header=None)\n",
    "Y_occur_val = pd.read_csv('Y_occurrency_validation.csv', header=None)\n",
    "\n",
    "#frequency\n",
    "X_frequ_train = pd.read_csv('X_frequency_train.csv', header=None)\n",
    "X_frequ_test = pd.read_csv('X_frequency_test.csv', header=None)\n",
    "X_frequ_val = pd.read_csv('X_frequency_validation.csv', header=None)\n",
    "\n",
    "Y_frequ_train = pd.read_csv('Y_frequency_train.csv', header=None)\n",
    "Y_frequ_test = pd.read_csv('Y_frequency_test.csv', header=None)\n",
    "Y_frequ_val = pd.read_csv('Y_frequency_validation.csv', header=None)\n",
    "\n",
    "#tf_idf\n",
    "X_tfidf_train = pd.read_csv('X_tfidf_train.csv', header=None)\n",
    "X_tfidf_test = pd.read_csv('X_tfidf_test.csv', header=None)\n",
    "X_tfidf_val = pd.read_csv('X_tfidf_validation.csv', header=None)\n",
    "\n",
    "Y_tfidf_train = pd.read_csv('Y_tfidf_train.csv', header=None)\n",
    "Y_tfidf_test = pd.read_csv('Y_tfidf_test.csv', header=None)\n",
    "Y_tfidf_val = pd.read_csv('Y_tfidf_validation.csv', header=None)"
   ]
  },
  {
   "cell_type": "markdown",
   "metadata": {},
   "source": [
    "## Funções auxiliares"
   ]
  },
  {
   "cell_type": "code",
   "execution_count": 39,
   "metadata": {},
   "outputs": [],
   "source": [
    "def prep_Y(y):\n",
    "    return np.array(y.values.flatten(), dtype = int)\n",
    "\n",
    "def min_max_scaler(x, scaler = None):\n",
    "    if scaler == None:\n",
    "        x_scaler = [x.min(), x.max()]\n",
    "        x_scaled = (x - x.min()) / (x.max() - x.min())\n",
    "        x_scaled.fillna(0, inplace = True)\n",
    "        return x_scaler, x_scaled\n",
    "    else:\n",
    "        x_scaled = (x - scaler[0]) / (scaler[1] - scaler[0]).replace(0, np.inf)\n",
    "        x_scaled = x_scaled.replace([np.inf, -np.inf], np.nan).fillna(0)\n",
    "        return x_scaled\n",
    "    \n",
    "def gridSearch(X, Y, Xval, Yval):\n",
    "    \n",
    "    custo = 1000\n",
    "    gamma = 1000\n",
    "    kernel = 2\n",
    "   \n",
    "    v = [0.01, 0.03, 0.1, 0.3, 1, 3, 10, 30]\n",
    "    f1_max = -1\n",
    "    for i in v:\n",
    "        for j in v:\n",
    "            temp_custo, temp_gamma = i, j\n",
    "            model = svm_train(Y, X, '-c %f -t %d -g %f -q' %(temp_custo, kernel, temp_gamma))\n",
    "            classes = svm_predict(Yval, Xval, model, options = '-q')\n",
    "            cm = get_confusionMatrix(Yval, classes[0], [0,1])\n",
    "            vp = cm[0,0] # quantidade de verdadeiros positivos\n",
    "            vn = cm[1,1] # quantidade de verdadeiros negativos\n",
    "            fp = cm[1,0] # quantidade de falsos positivos\n",
    "            fn = cm[0,1] # quantidade de falsos negativos\n",
    "        \n",
    "            recall = vp/(vp+fn)\n",
    "            precision = vp/(vp+fp)\n",
    "    \n",
    "            f1 = 2 * (precision * recall) / (precision + recall)\n",
    "               \n",
    "            if f1 > f1_max:\n",
    "                custo, gamma, f1_max = temp_custo, temp_gamma, f1\n",
    "\n",
    "    return custo, gamma"
   ]
  },
  {
   "cell_type": "markdown",
   "metadata": {},
   "source": [
    "## Occurrency"
   ]
  },
  {
   "cell_type": "code",
   "execution_count": 40,
   "metadata": {},
   "outputs": [],
   "source": [
    "Y_occur_train = prep_Y(Y_occur_train)\n",
    "Y_occur_val = prep_Y(Y_occur_val)"
   ]
  },
  {
   "cell_type": "code",
   "execution_count": 41,
   "metadata": {},
   "outputs": [],
   "source": [
    "#Normalização min-max\n",
    "X_occur_scaler, X_occur_train_scaled = min_max_scaler(X_occur_train)\n",
    "X_val_occur_scaled = min_max_scaler(X_occur_val, X_occur_scaler)\n",
    "\n",
    "X_train_occur_scaled, X_val_occur_scaled = X_occur_train_scaled.values, X_val_occur_scaled.values"
   ]
  },
  {
   "cell_type": "code",
   "execution_count": 42,
   "metadata": {},
   "outputs": [
    {
     "name": "stdout",
     "output_type": "stream",
     "text": [
      "Melhores parâmetros\n",
      "C: 3.000, gamma=0.100\n"
     ]
    }
   ],
   "source": [
    "bestC, bestGamma = gridSearch(X_train_occur_scaled, Y_occur_train, X_val_occur_scaled, Y_occur_val)\n",
    "print('Melhores parâmetros\\nC: %1.3f, gamma=%1.3f' %(bestC,bestGamma))"
   ]
  },
  {
   "cell_type": "markdown",
   "metadata": {},
   "source": [
    "## Frequency "
   ]
  },
  {
   "cell_type": "code",
   "execution_count": 43,
   "metadata": {},
   "outputs": [],
   "source": [
    "Y_frequ_train = prep_Y(Y_frequ_train)\n",
    "Y_frequ_val = prep_Y(Y_frequ_val)"
   ]
  },
  {
   "cell_type": "code",
   "execution_count": 44,
   "metadata": {},
   "outputs": [],
   "source": [
    "#Normalização min-max\n",
    "X_frequ_scaler, X_frequ_train_scaled = min_max_scaler(X_frequ_train)\n",
    "X_val_frequ_scaled = min_max_scaler(X_frequ_val, X_frequ_scaler)\n",
    "X_train_frequ_scaled, X_val_frequ_scaled = X_frequ_train_scaled.values, X_val_frequ_scaled.values"
   ]
  },
  {
   "cell_type": "code",
   "execution_count": 45,
   "metadata": {
    "scrolled": true
   },
   "outputs": [
    {
     "name": "stdout",
     "output_type": "stream",
     "text": [
      "Melhores parâmetros\n",
      "C: 3.000, gamma=0.100\n"
     ]
    }
   ],
   "source": [
    "bestC, bestGamma = gridSearch(X_train_frequ_scaled, Y_frequ_train, X_val_frequ_scaled, Y_frequ_val)\n",
    "print('Melhores parâmetros\\nC: %1.3f, gamma=%1.3f' %(bestC,bestGamma))"
   ]
  },
  {
   "cell_type": "markdown",
   "metadata": {},
   "source": [
    "## TF-IDF"
   ]
  },
  {
   "cell_type": "code",
   "execution_count": 46,
   "metadata": {},
   "outputs": [],
   "source": [
    "Y_tfidf_train = prep_Y(Y_tfidf_train)\n",
    "Y_tfidf_val = prep_Y(Y_tfidf_val)"
   ]
  },
  {
   "cell_type": "code",
   "execution_count": 47,
   "metadata": {},
   "outputs": [],
   "source": [
    "#Normalização min-max\n",
    "X_tfidf_scaler, X_tfidf_train_scaled = min_max_scaler(X_tfidf_train)\n",
    "X_val_tfidf_scaled = min_max_scaler(X_tfidf_val, X_tfidf_scaler)\n",
    "X_train_tfidf_scaled, X_val_tfidf_scaled = X_tfidf_train_scaled.values, X_val_tfidf_scaled.values"
   ]
  },
  {
   "cell_type": "code",
   "execution_count": 48,
   "metadata": {},
   "outputs": [
    {
     "name": "stdout",
     "output_type": "stream",
     "text": [
      "Melhores parâmetros\n",
      "C: 10.000, gamma=0.300\n"
     ]
    }
   ],
   "source": [
    "bestC, bestGamma = gridSearch(X_train_tfidf_scaled, Y_tfidf_train, X_val_tfidf_scaled, Y_tfidf_val)\n",
    "print('Melhores parâmetros\\nC: %1.3f, gamma=%1.3f' %(bestC,bestGamma))"
   ]
  },
  {
   "cell_type": "markdown",
   "metadata": {},
   "source": [
    "Dos três tratamentos citados e com uma série de parâmetros que foram testados, os melhores, para cada tipo de preprocessamento:\n",
    "- Occurrency: C: 3.000, gamma=0.100\n",
    "- Frequency: C: 3.000, gamma=0.100\n",
    "- TF_IDF: C: 10.000, gamma=0.300\n",
    "<br>\n",
    "\n",
    "Vamos verificar o score F1 para esses três casos."
   ]
  },
  {
   "cell_type": "markdown",
   "metadata": {},
   "source": [
    "## Occurency: C=3.000, gamma=0.100"
   ]
  },
  {
   "cell_type": "code",
   "execution_count": 49,
   "metadata": {},
   "outputs": [
    {
     "name": "stdout",
     "output_type": "stream",
     "text": [
      "Accuracy = 87.2659% (233/267) (classification)\n",
      "Matriz de confusão:\n",
      "[[133  16]\n",
      " [ 18 100]]\n",
      "Score F1: 0.8866666666666666\n"
     ]
    }
   ],
   "source": [
    "custo = 3\n",
    "gamma = 0.1\n",
    "kernel = 2\n",
    "\n",
    "model = svm_train(Y_occur_train, X_train_occur_scaled, '-c %f -t %d -g %f' %(custo, kernel, gamma))\n",
    "pred_occur = svm_predict(Y_occur_val, X_val_occur_scaled, model)[0]\n",
    "\n",
    "cm_occur = get_confusionMatrix(Y_occur_val, pred_occur, [0,1])\n",
    "print('Matriz de confusão:')\n",
    "print(cm_occur)\n",
    "\n",
    "vp=cm_occur[0,0] # quantidade de verdadeiros positivos\n",
    "vn=cm_occur[1,1] # quantidade de verdadeiros negativos\n",
    "fp=cm_occur[1,0] # quantidade de falsos positivos\n",
    "fn=cm_occur[0,1] # quantidade de falsos negativos    \n",
    "recall = vp/(vp+fn)\n",
    "precision = vp/(vp+fp)\n",
    "    \n",
    "f1 = 2 * (precision * recall) / (precision + recall)\n",
    "\n",
    "print('Score F1: {}'.format(f1))"
   ]
  },
  {
   "cell_type": "markdown",
   "metadata": {},
   "source": [
    "## Frequency: C=3.000, gamma=0.100"
   ]
  },
  {
   "cell_type": "code",
   "execution_count": 50,
   "metadata": {},
   "outputs": [
    {
     "name": "stdout",
     "output_type": "stream",
     "text": [
      "Accuracy = 85.0187% (227/267) (classification)\n",
      "Matriz de confusão:\n",
      "[[135  14]\n",
      " [ 26  92]]\n",
      "Score F1: 0.8709677419354839\n"
     ]
    }
   ],
   "source": [
    "custo = 3\n",
    "gamma = 0.1\n",
    "kernel = 2\n",
    "\n",
    "model = svm_train(Y_frequ_train, X_train_frequ_scaled, '-c %f -t %d -g %f' %(custo, kernel, gamma))\n",
    "pred_frequ = svm_predict(Y_frequ_val, X_val_frequ_scaled, model)[0]\n",
    "\n",
    "cm_frequ = get_confusionMatrix(Y_frequ_val, pred_frequ, [0,1])\n",
    "print('Matriz de confusão:')\n",
    "print(cm_frequ)\n",
    "\n",
    "vp=cm_frequ[0,0] # quantidade de verdadeiros positivos\n",
    "vn=cm_frequ[1,1] # quantidade de verdadeiros negativos\n",
    "fp=cm_frequ[1,0] # quantidade de falsos positivos\n",
    "fn=cm_frequ[0,1] # quantidade de falsos negativos    \n",
    "recall = vp/(vp+fn)\n",
    "precision = vp/(vp+fp)\n",
    "    \n",
    "f1 = 2 * (precision * recall) / (precision + recall)\n",
    "\n",
    "print('Score F1: {}'.format(f1))"
   ]
  },
  {
   "cell_type": "markdown",
   "metadata": {},
   "source": [
    "## TF-IDF: C=10.000, gamma=0.300"
   ]
  },
  {
   "cell_type": "code",
   "execution_count": 51,
   "metadata": {},
   "outputs": [
    {
     "name": "stdout",
     "output_type": "stream",
     "text": [
      "Accuracy = 73.7828% (197/267) (classification)\n",
      "Matriz de confusão:\n",
      "[[108  41]\n",
      " [ 29  89]]\n",
      "Score F1: 0.7552447552447552\n"
     ]
    }
   ],
   "source": [
    "custo = 10000\n",
    "gamma = 0.3\n",
    "kernel = 2\n",
    "\n",
    "model = svm_train(Y_tfidf_train, X_train_tfidf_scaled, '-c %f -t %d -g %f' %(custo, kernel, gamma))\n",
    "pred_tfidf = svm_predict(Y_tfidf_val, X_val_tfidf_scaled, model)[0]\n",
    "\n",
    "cm_tfidf = get_confusionMatrix(Y_tfidf_val, pred_tfidf, [0,1])\n",
    "print('Matriz de confusão:')\n",
    "print(cm_tfidf)\n",
    "\n",
    "vp=cm_tfidf[0,0] # quantidade de verdadeiros positivos\n",
    "vn=cm_tfidf[1,1] # quantidade de verdadeiros negativos\n",
    "fp=cm_tfidf[1,0] # quantidade de falsos positivos\n",
    "fn=cm_tfidf[0,1] # quantidade de falsos negativos    \n",
    "recall = vp/(vp+fn)\n",
    "precision = vp/(vp+fp)\n",
    "    \n",
    "f1 = 2 * (precision * recall) / (precision + recall)\n",
    "\n",
    "print('Score F1: {}'.format(f1))"
   ]
  },
  {
   "cell_type": "markdown",
   "metadata": {},
   "source": [
    "Para os três casos estudados, o que obteve o maior score foi o dataset com o preprocessamento _Occurrency_"
   ]
  },
  {
   "cell_type": "code",
   "execution_count": 52,
   "metadata": {},
   "outputs": [
    {
     "data": {
      "image/png": "[encoded data removed]",
      "text/plain": [
       "<Figure size 720x432 with 1 Axes>"
      ]
     },
     "metadata": {
      "needs_background": "light"
     },
     "output_type": "display_data"
    }
   ],
   "source": [
    "def curva_aprendizado_svm(X, Y, Xval, Yval):\n",
    "\n",
    "    # inicializa as listas que guardarao a performance no treinamento e na validacao\n",
    "    perf_train = []\n",
    "    perf_val = []\n",
    "    \n",
    "    num_rows = len(X)\n",
    "    \n",
    "    for i in range(200,num_rows, 200):\n",
    "        x_train = X[0:i,:]\n",
    "        y_train = Y[0:i]\n",
    "        \n",
    "        custo = 3\n",
    "        gamma = 0.1\n",
    "        kernel = 2\n",
    "\n",
    "        model = svm_train(y_train, x_train, '-c %f -t %d -g %f' %(custo, kernel, gamma))\n",
    "        \n",
    "        #train\n",
    "        pred_train = svm_predict(y_train, x_train, model, options='-q')[0]             \n",
    "        \n",
    "        #validation\n",
    "        pred_val = svm_predict(Yval, Xval, model, options='-q')[0]\n",
    "            \n",
    "        #scores\n",
    "        #train\n",
    "        cm_train = get_confusionMatrix(y_train, pred_train, [0,1])\n",
    "        vp_train=cm_train[0,0] # quantidade de verdadeiros positivos\n",
    "        vn_train=cm_train[1,1] # quantidade de verdadeiros negativos\n",
    "        fp_train=cm_train[1,0] # quantidade de falsos positivos\n",
    "        fn_train=cm_train[0,1] # quantidade de falsos negativos\n",
    "        \n",
    "        recall_train = vp_train/(vp_train+fn_train)\n",
    "        precision_train = vp_train/(vp_train+fp_train)\n",
    "    \n",
    "        f1_train = 2 * (precision_train * recall_train) / (precision_train + recall_train)               \n",
    "        #val     \n",
    "        cm_val = get_confusionMatrix(Yval, pred_val, [0,1])\n",
    "        vp_val=cm_val[0,0] # quantidade de verdadeiros positivos\n",
    "        vn_val=cm_val[1,1] # quantidade de verdadeiros negativos\n",
    "        fp_val=cm_val[1,0] # quantidade de falsos positivos\n",
    "        fn_val=cm_val[0,1] # quantidade de falsos negativos\n",
    "        \n",
    "        recall_val = vp_val/(vp_val+fn_val)\n",
    "        precision_val = vp_val/(vp_val+fp_val)\n",
    "    \n",
    "        f1_val = 2 * (precision_val * recall_val) / (precision_val + recall_val)         \n",
    "                \n",
    "        perf_train.append(f1_train)\n",
    "        perf_val.append(f1_val)\n",
    "       \n",
    "    # Define o tamanho da figura \n",
    "    plt.figure(figsize=(10,6))\n",
    "\n",
    "    # Plota os dados\n",
    "    plt.plot(perf_train, color='blue', linestyle='-', linewidth=1.5, label='Treino') \n",
    "    plt.plot(perf_val, color='red', linestyle='-', linewidth=1.5, label='Validação')\n",
    "\n",
    "    # Define os nomes do eixo x e do eixo y\n",
    "    plt.xlabel(r'# Qtd. de dados de treinamento',fontsize='x-large') \n",
    "    plt.ylabel(r'F1 Score',fontsize='x-large') \n",
    "\n",
    "    # Define o título do gráfico\n",
    "    plt.title(r'Curva de aprendizado', fontsize='x-large')\n",
    "\n",
    "    # Acrescenta um grid no gráfico\n",
    "    plt.grid(axis='both')\n",
    "\n",
    "    # Plota a legenda\n",
    "    plt.legend()\n",
    "    \n",
    "    plt.show()\n",
    "\n",
    "curva_aprendizado_svm(X_train_occur_scaled, Y_occur_train, X_val_occur_scaled, Y_occur_val)"
   ]
  },
  {
   "cell_type": "markdown",
   "metadata": {},
   "source": [
    "Quanto maior a quantidade de dados no conjunto de treinamento, melhor o resultado no conjunto de validação, sem reducão do score no conjunto de validação."
   ]
  },
  {
   "cell_type": "markdown",
   "metadata": {},
   "source": [
    "Se utilizarmos o _dataset_ de teste com o tratamento que obteve o melhor score F1, obteremos o resultado a seguir:"
   ]
  },
  {
   "cell_type": "code",
   "execution_count": 53,
   "metadata": {},
   "outputs": [
    {
     "name": "stdout",
     "output_type": "stream",
     "text": [
      "Matriz de confusão:\n",
      "[[168  18]\n",
      " [ 20 127]]\n",
      "Score F1: 0.8983957219251337\n"
     ]
    }
   ],
   "source": [
    "Y_occur_test = prep_Y(Y_occur_test)\n",
    "\n",
    "#Normalização min-max\n",
    "X_test_occur_scaled = min_max_scaler(X_occur_test, X_occur_scaler).values\n",
    "\n",
    "custo = 3\n",
    "gamma = 0.1\n",
    "kernel = 2\n",
    "\n",
    "model = svm_train(Y_occur_train, X_train_occur_scaled, '-c %f -t %d -g %f' %(custo, kernel, gamma))\n",
    "pred_occur = svm_predict(Y_occur_test, X_test_occur_scaled, model, options='-q')[0]\n",
    "\n",
    "cm = get_confusionMatrix(Y_occur_test, pred_occur, [0,1])\n",
    "print('Matriz de confusão:')\n",
    "print(cm)\n",
    "\n",
    "vp=cm[0,0] # quantidade de verdadeiros positivos\n",
    "vn=cm[1,1] # quantidade de verdadeiros negativos\n",
    "fp=cm[1,0] # quantidade de falsos positivos\n",
    "fn=cm[0,1] # quantidade de falsos negativos    \n",
    "recall = vp/(vp+fn)\n",
    "precision = vp/(vp+fp)\n",
    "    \n",
    "f1 = 2 * (precision * recall) / (precision + recall)\n",
    "\n",
    "print('Score F1: {}'.format(f1))"
   ]
  },
  {
   "cell_type": "markdown",
   "metadata": {},
   "source": [
    "Obtivemos um _score_ parecido com o resultado do mesmo modelo no conjunto de validação, o que é um bom indicador para se evitar _overfitting_."
   ]
  }
 ],
 "metadata": {
  "kernelspec": {
   "display_name": "Python 3",
   "language": "python",
   "name": "python3"
  },
  "language_info": {
   "codemirror_mode": {
    "name": "ipython",
    "version": 3
   },
   "file_extension": ".py",
   "mimetype": "text/x-python",
   "name": "python",
   "nbconvert_exporter": "python",
   "pygments_lexer": "ipython3",
   "version": "3.7.3"
  }
 },
 "nbformat": 4,
 "nbformat_minor": 2
}
