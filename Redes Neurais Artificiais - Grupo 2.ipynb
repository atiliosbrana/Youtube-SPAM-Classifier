{
 "cells": [
  {
   "cell_type": "markdown",
   "metadata": {},
   "source": [
    "# YouTube Spam Collection v. 1"
   ]
  },
  {
   "cell_type": "markdown",
   "metadata": {},
   "source": [
    "## Grupo 2\n",
    "Alberto Atilio Sbrana Junior\n",
    "<br>\n",
    "Luiz Barreto Pedro de Alcântara\n",
    "<br>\n",
    "Priscila Portela Costa"
   ]
  },
  {
   "cell_type": "markdown",
   "metadata": {},
   "source": [
    "# Problema"
   ]
  },
  {
   "cell_type": "markdown",
   "metadata": {},
   "source": [
    "Trata-se de um problema de classificação binária sobre comentários de vídeos no Youtube.\n",
    "<br>\n",
    "Há no total 5 arquivos, separados por artista:\n",
    "- Psy\n",
    "- Katy Perry\n",
    "- LMFAO\n",
    "- Eminem\n",
    "- Shakira"
   ]
  },
  {
   "cell_type": "markdown",
   "metadata": {},
   "source": [
    "# Bibliotecas"
   ]
  },
  {
   "cell_type": "code",
   "execution_count": 121,
   "metadata": {},
   "outputs": [],
   "source": [
    "import pandas as pd\n",
    "import numpy as np\n",
    "import scipy.optimize\n",
    "from ML_library import *\n",
    "import matplotlib.pyplot as plt"
   ]
  },
  {
   "cell_type": "markdown",
   "metadata": {},
   "source": [
    "# Modelo 4: Redes Neurais Artificiais"
   ]
  },
  {
   "cell_type": "markdown",
   "metadata": {},
   "source": [
    "## Carregando os _datasets_"
   ]
  },
  {
   "cell_type": "code",
   "execution_count": 122,
   "metadata": {},
   "outputs": [],
   "source": [
    "#occurency\n",
    "X_occur_train = pd.read_csv('X_occurrency_train.csv', header=None)\n",
    "X_occur_test = pd.read_csv('X_occurrency_test.csv', header=None)\n",
    "X_occur_val = pd.read_csv('X_occurrency_validation.csv', header=None)\n",
    "\n",
    "Y_occur_train = pd.read_csv('Y_occurrency_train.csv', header=None)\n",
    "Y_occur_test = pd.read_csv('Y_occurrency_test.csv', header=None)\n",
    "Y_occur_val = pd.read_csv('Y_occurrency_validation.csv', header=None)\n",
    "\n",
    "#frequency\n",
    "X_frequ_train = pd.read_csv('X_frequency_train.csv', header=None)\n",
    "X_frequ_test = pd.read_csv('X_frequency_test.csv', header=None)\n",
    "X_frequ_val = pd.read_csv('X_frequency_validation.csv', header=None)\n",
    "\n",
    "Y_frequ_train = pd.read_csv('Y_frequency_train.csv', header=None)\n",
    "Y_frequ_test = pd.read_csv('Y_frequency_test.csv', header=None)\n",
    "Y_frequ_val = pd.read_csv('Y_frequency_validation.csv', header=None)\n",
    "\n",
    "#tf_idf\n",
    "X_tfidf_train = pd.read_csv('X_tfidf_train.csv', header=None)\n",
    "X_tfidf_test = pd.read_csv('X_tfidf_test.csv', header=None)\n",
    "X_tfidf_val = pd.read_csv('X_tfidf_validation.csv', header=None)\n",
    "\n",
    "Y_tfidf_train = pd.read_csv('Y_tfidf_train.csv', header=None)\n",
    "Y_tfidf_test = pd.read_csv('Y_tfidf_test.csv', header=None)\n",
    "Y_tfidf_val = pd.read_csv('Y_tfidf_validation.csv', header=None)"
   ]
  },
  {
   "cell_type": "markdown",
   "metadata": {},
   "source": [
    "## Funções auxiliares"
   ]
  },
  {
   "cell_type": "code",
   "execution_count": 123,
   "metadata": {},
   "outputs": [],
   "source": [
    "def prep_Y(y):\n",
    "    return np.array(y.values.flatten(), dtype = int)\n",
    "\n",
    "#Normalização min-max\n",
    "def min_max_scaler(x, scaler = None):\n",
    "    if scaler == None:\n",
    "        x_scaler = [x.min(), x.max()]\n",
    "        x_scaled = (x - x.min()) / (x.max() - x.min())\n",
    "        x_scaled.fillna(0, inplace = True)\n",
    "        return x_scaler, x_scaled\n",
    "    else:\n",
    "        x_scaled = (x - scaler[0]) / (scaler[1] - scaler[0]).replace(0, np.inf)\n",
    "        x_scaled = x_scaled.replace([np.inf, -np.inf], np.nan).fillna(0)\n",
    "        return x_scaled\n",
    "    \n",
    "def inicializaPesosAleatorios(L_in, L_out, randomSeed = None):\n",
    "    epsilon_init = 0.12\n",
    "    if randomSeed is not None:\n",
    "        W = np.random.RandomState(randomSeed).rand(L_out, 1 + L_in) * 2 * epsilon_init - epsilon_init\n",
    "    else:\n",
    "        W = np.random.rand(L_out, 1 + L_in) * 2 * epsilon_init - epsilon_init     \n",
    "    return W\n",
    "\n",
    "def sigmoid(z):\n",
    "    return 1 / (1 + np.exp(-z))\n",
    "\n",
    "def sigmoidGradient(z):\n",
    "    return sigmoid(z) * (1 - sigmoid(z))\n",
    "\n",
    "def funcaoCusto_backp_reg(nn_params, input_layer_size, hidden_layer_size, num_labels, X, y, vLambda):\n",
    "    \n",
    "    Theta1 = np.reshape(nn_params[0:hidden_layer_size * (input_layer_size + 1)], \n",
    "                        (hidden_layer_size, input_layer_size + 1))\n",
    "    Theta2 = np.reshape(nn_params[ hidden_layer_size * (input_layer_size + 1):], \n",
    "                        (num_labels, hidden_layer_size + 1))\n",
    "\n",
    "    m = X.shape[0]\n",
    "         \n",
    "    J = 0;\n",
    "    Theta1_grad = np.zeros(Theta1.shape)\n",
    "    Theta2_grad = np.zeros(Theta2.shape)\n",
    "\n",
    "    Y = np.eye(num_labels)[y - 1]\n",
    "    a1 = np.append(np.ones((m, 1)), X, axis = 1)\n",
    "    a2 = np.append(np.ones((m, 1)), sigmoid(np.dot(a1, Theta1.T)), axis = 1)\n",
    "    h = sigmoid(np.dot(a2, Theta2.T))\n",
    "    J = - (1 / m) * np.sum(Y * np.log(h) + (1 - Y) * np.log(1 - h))\n",
    "    \n",
    "    T1 = np.sum(Theta1[:,1:] ** 2)\n",
    "    T2 = np.sum(Theta2[:,1:] ** 2)\n",
    "\n",
    "    J = J + (vLambda / (2 * m) * (T1 + T2))\n",
    "    \n",
    "    D1, D2 = 0, 0\n",
    "    for i in range(m):\n",
    "        x = X[i]\n",
    "        a1 = np.append([1], x)\n",
    "        a2 = np.append([1], sigmoid(np.dot(a1, Theta1.T)))\n",
    "        a3 = sigmoid(np.dot(a2, Theta2.T))\n",
    "        d3 = a3 - Y[i]\n",
    "        d2 = np.dot(Theta2[:,1:].T, d3).T * sigmoidGradient(np.dot(a1, Theta1.T))\n",
    "        D1 += np.outer(d2, a1)\n",
    "        D2 += np.outer(d3, a2)\n",
    "    \n",
    "    Theta1_grad = D1 / m\n",
    "    Theta2_grad = D2 / m\n",
    "    \n",
    "    Theta1_1st_j = np.copy(Theta1_grad[:,0])\n",
    "    Theta2_1st_j = np.copy(Theta2_grad[:,0])\n",
    "    Theta1_grad += vLambda / m * Theta1\n",
    "    Theta2_grad += vLambda / m * Theta2\n",
    "    Theta1_grad[:,0] = Theta1_1st_j\n",
    "    Theta2_grad[:,0] = Theta2_1st_j\n",
    "    \n",
    "    grad = np.concatenate([np.ravel(Theta1_grad), np.ravel(Theta2_grad)])\n",
    "\n",
    "    return J, grad\n",
    "\n",
    "def predicao(Theta1, Theta2, X):\n",
    "    m = X.shape[0]\n",
    "    num_labels = Theta2.shape[0]\n",
    "\n",
    "    a1 = np.hstack([np.ones([m, 1]), X])\n",
    "    h1 = sigmoid(np.dot(a1, Theta1.T))\n",
    "\n",
    "    a2 = np.hstack([np.ones([m, 1]), h1]) \n",
    "    h2 = sigmoid(np.dot(a2, Theta2.T))\n",
    "    \n",
    "    p = np.argmax(h2, axis=1)\n",
    "    \n",
    "    return p"
   ]
  },
  {
   "cell_type": "markdown",
   "metadata": {},
   "source": [
    "## Hiperparâmetros"
   ]
  },
  {
   "cell_type": "code",
   "execution_count": 124,
   "metadata": {},
   "outputs": [],
   "source": [
    "#Hiper-parâmetros\n",
    "hidden_layer_size = 25\n",
    "num_labels = 2\n",
    "vLambda = 1\n",
    "MaxIter = 200"
   ]
  },
  {
   "cell_type": "markdown",
   "metadata": {},
   "source": [
    "## Occurrency"
   ]
  },
  {
   "cell_type": "code",
   "execution_count": 125,
   "metadata": {},
   "outputs": [],
   "source": [
    "Y_occur_train, Y_occur_val = prep_Y(Y_occur_train), prep_Y(Y_occur_val)    \n",
    "\n",
    "X_occur_scaler, X_train_occur_scaled = min_max_scaler(X_occur_train)\n",
    "X_val_occur_scaled = min_max_scaler(X_occur_val, X_occur_scaler)\n",
    "X_train_occur_scaled, X_val_occur_scaled = X_train_occur_scaled.values, X_val_occur_scaled.values"
   ]
  },
  {
   "cell_type": "code",
   "execution_count": 126,
   "metadata": {},
   "outputs": [],
   "source": [
    "#Iniciar Thetas\n",
    "input_layer_size  = X_train_occur_scaled.shape[1]\n",
    "Theta1 = inicializaPesosAleatorios(input_layer_size, hidden_layer_size, randomSeed = 10)\n",
    "Theta2 = inicializaPesosAleatorios(hidden_layer_size, num_labels, randomSeed = 20)\n",
    "nn_params = np.concatenate([np.ravel(Theta1), np.ravel(Theta2)])"
   ]
  },
  {
   "cell_type": "code",
   "execution_count": 127,
   "metadata": {},
   "outputs": [],
   "source": [
    "#Rodar modelo\n",
    "args = (input_layer_size, hidden_layer_size, num_labels, X_train_occur_scaled, Y_occur_train + 1, vLambda)\n",
    "\n",
    "result = scipy.optimize.minimize(fun=funcaoCusto_backp_reg, x0=nn_params, args=args,\n",
    "                                 method='TNC', jac=True, options={'maxiter':MaxIter})\n",
    "\n",
    "nn_params = result.x\n",
    "Theta1 = np.reshape(nn_params[0:hidden_layer_size * (input_layer_size + 1)], \n",
    "                    (hidden_layer_size, input_layer_size + 1))\n",
    "Theta2 = np.reshape(nn_params[hidden_layer_size * (input_layer_size + 1):], \n",
    "                    (num_labels, hidden_layer_size + 1))"
   ]
  },
  {
   "cell_type": "code",
   "execution_count": 128,
   "metadata": {},
   "outputs": [
    {
     "name": "stdout",
     "output_type": "stream",
     "text": [
      "Matriz de confusão:\n",
      "[[126  23]\n",
      " [ 19  99]]\n"
     ]
    }
   ],
   "source": [
    "#Gerar predição\n",
    "pred_occur = predicao(Theta1, Theta2, X_val_occur_scaled)\n",
    "cm_occur = get_confusionMatrix(Y_occur_val, pred_occur, [0,1])\n",
    "\n",
    "print('Matriz de confusão:')\n",
    "print(cm_occur)"
   ]
  },
  {
   "cell_type": "markdown",
   "metadata": {},
   "source": [
    "## Frequency"
   ]
  },
  {
   "cell_type": "code",
   "execution_count": 129,
   "metadata": {},
   "outputs": [],
   "source": [
    "Y_frequ_train, Y_frequ_val = prep_Y(Y_frequ_train), prep_Y(Y_frequ_val)    \n",
    "\n",
    "X_frequ_scaler, X_train_frequ_scaled = min_max_scaler(X_frequ_train)\n",
    "X_val_frequ_scaled = min_max_scaler(X_frequ_val, X_frequ_scaler)\n",
    "X_train_frequ_scaled, X_val_frequ_scaled = X_train_frequ_scaled.values, X_val_frequ_scaled.values"
   ]
  },
  {
   "cell_type": "code",
   "execution_count": 130,
   "metadata": {},
   "outputs": [],
   "source": [
    "#Iniciar Thetas\n",
    "input_layer_size  = X_train_frequ_scaled.shape[1]\n",
    "Theta1 = inicializaPesosAleatorios(input_layer_size, hidden_layer_size, randomSeed = 10)\n",
    "Theta2 = inicializaPesosAleatorios(hidden_layer_size, num_labels, randomSeed = 20)\n",
    "nn_params = np.concatenate([np.ravel(Theta1), np.ravel(Theta2)])"
   ]
  },
  {
   "cell_type": "code",
   "execution_count": 131,
   "metadata": {},
   "outputs": [],
   "source": [
    "#Rodar modelo\n",
    "args = (input_layer_size, hidden_layer_size, num_labels, X_train_frequ_scaled, Y_frequ_train + 1, vLambda)\n",
    "\n",
    "result = scipy.optimize.minimize(fun=funcaoCusto_backp_reg, x0=nn_params, args=args,\n",
    "                                 method='TNC', jac=True, options={'maxiter':MaxIter})\n",
    "\n",
    "nn_params = result.x\n",
    "Theta1 = np.reshape(nn_params[0:hidden_layer_size * (input_layer_size + 1)], \n",
    "                    (hidden_layer_size, input_layer_size + 1))\n",
    "Theta2 = np.reshape(nn_params[hidden_layer_size * (input_layer_size + 1):], \n",
    "                    (num_labels, hidden_layer_size + 1))"
   ]
  },
  {
   "cell_type": "code",
   "execution_count": 132,
   "metadata": {},
   "outputs": [
    {
     "name": "stdout",
     "output_type": "stream",
     "text": [
      "Matriz de confusão:\n",
      "[[124  25]\n",
      " [ 24  94]]\n"
     ]
    }
   ],
   "source": [
    "#Gerar predição\n",
    "pred_frequ = predicao(Theta1, Theta2, X_val_frequ_scaled)\n",
    "cm_frequ = get_confusionMatrix(Y_frequ_val, pred_frequ, [0,1])\n",
    "\n",
    "print('Matriz de confusão:')\n",
    "print(cm_frequ)"
   ]
  },
  {
   "cell_type": "markdown",
   "metadata": {},
   "source": [
    "## TF-IDF"
   ]
  },
  {
   "cell_type": "code",
   "execution_count": 133,
   "metadata": {},
   "outputs": [],
   "source": [
    "Y_tfidf_train, Y_tfidf_val = prep_Y(Y_tfidf_train), prep_Y(Y_tfidf_val)    \n",
    "\n",
    "X_tfidf_scaler, X_train_tfidf_scaled = min_max_scaler(X_tfidf_train)\n",
    "X_val_tfidf_scaled = min_max_scaler(X_tfidf_val, X_tfidf_scaler)\n",
    "X_train_tfidf_scaled, X_val_tfidf_scaled = X_train_tfidf_scaled.values, X_val_tfidf_scaled.values"
   ]
  },
  {
   "cell_type": "code",
   "execution_count": 134,
   "metadata": {},
   "outputs": [],
   "source": [
    "#Iniciar Thetas\n",
    "input_layer_size  = X_train_tfidf_scaled.shape[1]\n",
    "Theta1 = inicializaPesosAleatorios(input_layer_size, hidden_layer_size, randomSeed = 10)\n",
    "Theta2 = inicializaPesosAleatorios(hidden_layer_size, num_labels, randomSeed = 20)\n",
    "nn_params = np.concatenate([np.ravel(Theta1), np.ravel(Theta2)])"
   ]
  },
  {
   "cell_type": "code",
   "execution_count": 135,
   "metadata": {},
   "outputs": [],
   "source": [
    "#Rodar modelo\n",
    "args = (input_layer_size, hidden_layer_size, num_labels, X_train_tfidf_scaled, Y_tfidf_train + 1, vLambda)\n",
    "result = scipy.optimize.minimize(fun=funcaoCusto_backp_reg, x0=nn_params, args=args,\n",
    "                                 method='TNC', jac=True, options={'maxiter':MaxIter})\n",
    "\n",
    "nn_params = result.x\n",
    "Theta1 = np.reshape(nn_params[0:hidden_layer_size * (input_layer_size + 1)], \n",
    "                    (hidden_layer_size, input_layer_size + 1))\n",
    "Theta2 = np.reshape(nn_params[hidden_layer_size * (input_layer_size + 1):], \n",
    "                    (num_labels, hidden_layer_size + 1))"
   ]
  },
  {
   "cell_type": "code",
   "execution_count": 136,
   "metadata": {},
   "outputs": [
    {
     "name": "stdout",
     "output_type": "stream",
     "text": [
      "Matriz de confusão:\n",
      "[[126  23]\n",
      " [ 26  92]]\n"
     ]
    }
   ],
   "source": [
    "#Gerar predição\n",
    "pred_tfidf = predicao(Theta1, Theta2, X_val_tfidf_scaled)\n",
    "cm_tfidf = get_confusionMatrix(Y_tfidf_val, pred_tfidf, [0,1])\n",
    "\n",
    "print('Matriz de confusão:')\n",
    "print(cm_tfidf)"
   ]
  },
  {
   "cell_type": "markdown",
   "metadata": {},
   "source": [
    "## F1 Scores"
   ]
  },
  {
   "cell_type": "code",
   "execution_count": 137,
   "metadata": {},
   "outputs": [
    {
     "name": "stdout",
     "output_type": "stream",
     "text": [
      "Tratamento Occurrency: 0.8571428571428572\n",
      "Tratamento Frequency: 0.8350168350168351\n",
      "Tratamento TF-IDF: 0.8372093023255816\n"
     ]
    }
   ],
   "source": [
    "cm_nb = {'Occurrency': cm_occur,\n",
    "         'Frequency': cm_frequ,\n",
    "         'TF-IDF': cm_tfidf}\n",
    "\n",
    "for k, cm in cm_nb.items():\n",
    "    vp=cm[0,0] # quantidade de verdadeiros positivos\n",
    "    vn=cm[1,1] # quantidade de verdadeiros negativos\n",
    "    fp=cm[1,0] # quantidade de falsos positivos\n",
    "    fn=cm[0,1] # quantidade de falsos negativos\n",
    "    \n",
    "    recall = vp/(vp+fn)\n",
    "    precision = vp/(vp+fp)\n",
    "    \n",
    "    f1 = 2 * (precision * recall) / (precision + recall)\n",
    "    print('Tratamento {}: {}'.format(k, f1))"
   ]
  },
  {
   "cell_type": "markdown",
   "metadata": {},
   "source": [
    "Verificamos que o modelo que usa o modo de tratamento _occurrency_ é o que se sai melhor de acordo com a métrica escolhida."
   ]
  },
  {
   "cell_type": "code",
   "execution_count": 138,
   "metadata": {},
   "outputs": [
    {
     "data": {
      "image/png": "[encoded data removed]",
      "text/plain": [
       "<Figure size 720x432 with 1 Axes>"
      ]
     },
     "metadata": {
      "needs_background": "light"
     },
     "output_type": "display_data"
    }
   ],
   "source": [
    "def curva_aprendizado_nn(X, Y, Xval, Yval):\n",
    "\n",
    "    # inicializa as listas que guardarao a performance no treinamento e na validacao\n",
    "    perf_train = []\n",
    "    perf_val = []\n",
    "    \n",
    "    num_rows = len(X)\n",
    "    \n",
    "    for i in range(200,num_rows, 200):\n",
    "        x_train = X[0:i,:]\n",
    "        y_train = Y[0:i]\n",
    "        \n",
    "        #Iniciar Thetas\n",
    "        input_layer_size  = x_train.shape[1]\n",
    "        Theta1 = inicializaPesosAleatorios(input_layer_size, hidden_layer_size, randomSeed = 10)\n",
    "        Theta2 = inicializaPesosAleatorios(hidden_layer_size, num_labels, randomSeed = 20)\n",
    "        nn_params = np.concatenate([np.ravel(Theta1), np.ravel(Theta2)])\n",
    "        \n",
    "        #Rodar modelo\n",
    "        args = (input_layer_size, hidden_layer_size, num_labels, x_train, y_train + 1, vLambda)\n",
    "\n",
    "        result = scipy.optimize.minimize(fun=funcaoCusto_backp_reg, x0=nn_params, args=args,\n",
    "                                 method='TNC', jac=True, options={'maxiter':MaxIter})\n",
    "\n",
    "        nn_params = result.x\n",
    "        Theta1 = np.reshape(nn_params[0:hidden_layer_size * (input_layer_size + 1)], \n",
    "                    (hidden_layer_size, input_layer_size + 1))\n",
    "        Theta2 = np.reshape(nn_params[hidden_layer_size * (input_layer_size + 1):], \n",
    "                    (num_labels, hidden_layer_size + 1))       \n",
    "        \n",
    "        #train\n",
    "        pred_train = predicao(Theta1, Theta2, x_train)           \n",
    "        \n",
    "        #validation\n",
    "        pred_val = predicao(Theta1, Theta2, Xval)\n",
    "            \n",
    "        #scores\n",
    "        #train\n",
    "        cm_train = get_confusionMatrix(y_train, pred_train, [0,1])\n",
    "        vp_train=cm_train[0,0] # quantidade de verdadeiros positivos\n",
    "        vn_train=cm_train[1,1] # quantidade de verdadeiros negativos\n",
    "        fp_train=cm_train[1,0] # quantidade de falsos positivos\n",
    "        fn_train=cm_train[0,1] # quantidade de falsos negativos\n",
    "        \n",
    "        recall_train = vp_train/(vp_train+fn_train)\n",
    "        precision_train = vp_train/(vp_train+fp_train)\n",
    "    \n",
    "        f1_train = 2 * (precision_train * recall_train) / (precision_train + recall_train)               \n",
    "        #val     \n",
    "        cm_val = get_confusionMatrix(Yval, pred_val, [0,1])\n",
    "        vp_val=cm_val[0,0] # quantidade de verdadeiros positivos\n",
    "        vn_val=cm_val[1,1] # quantidade de verdadeiros negativos\n",
    "        fp_val=cm_val[1,0] # quantidade de falsos positivos\n",
    "        fn_val=cm_val[0,1] # quantidade de falsos negativos\n",
    "        \n",
    "        recall_val = vp_val/(vp_val+fn_val)\n",
    "        precision_val = vp_val/(vp_val+fp_val)\n",
    "    \n",
    "        f1_val = 2 * (precision_val * recall_val) / (precision_val + recall_val)         \n",
    "                \n",
    "        perf_train.append(f1_train)\n",
    "        perf_val.append(f1_val)\n",
    "       \n",
    "    # Define o tamanho da figura \n",
    "    plt.figure(figsize=(10,6))\n",
    "\n",
    "    # Plota os dados\n",
    "    plt.plot(perf_train, color='blue', linestyle='-', linewidth=1.5, label='Treino') \n",
    "    plt.plot(perf_val, color='red', linestyle='-', linewidth=1.5, label='Validação')\n",
    "\n",
    "    # Define os nomes do eixo x e do eixo y\n",
    "    plt.xlabel(r'# Qtd. de dados de treinamento',fontsize='x-large') \n",
    "    plt.ylabel(r'F1 Score',fontsize='x-large') \n",
    "\n",
    "    # Define o título do gráfico\n",
    "    plt.title(r'Curva de aprendizado', fontsize='x-large')\n",
    "\n",
    "    # Acrescenta um grid no gráfico\n",
    "    plt.grid(axis='both')\n",
    "\n",
    "    # Plota a legenda\n",
    "    plt.legend()\n",
    "    \n",
    "    plt.show()\n",
    "\n",
    "curva_aprendizado_nn(X_train_occur_scaled, Y_occur_train, X_val_occur_scaled, Y_occur_val)"
   ]
  },
  {
   "cell_type": "markdown",
   "metadata": {},
   "source": [
    "Com o aumento da quantidade de dados no conjunto de treinamento, o impacto no _score_ para os conjuntos de treino e teste são baixos."
   ]
  },
  {
   "cell_type": "markdown",
   "metadata": {},
   "source": [
    "Se utilizarmos o _dataset_ de teste com o tratamento que obteve o melhor score F1, obteremos o resultado a seguir:"
   ]
  },
  {
   "cell_type": "code",
   "execution_count": 139,
   "metadata": {},
   "outputs": [
    {
     "name": "stdout",
     "output_type": "stream",
     "text": [
      "Matriz de confusão:\n",
      "[[166  20]\n",
      " [ 20 127]]\n",
      "Score F1: 0.8924731182795699\n"
     ]
    }
   ],
   "source": [
    "Y_occur_test = prep_Y(Y_occur_test)    \n",
    "\n",
    "X_occur_scaler, X_train_occur_scaled = min_max_scaler(X_occur_train)\n",
    "X_test_occur_scaled = min_max_scaler(X_occur_test, X_occur_scaler)\n",
    "X_train_occur_scaled, X_test_occur_scaled = X_train_occur_scaled.values, X_test_occur_scaled.values\n",
    "\n",
    "#Iniciar Thetas\n",
    "input_layer_size  = X_train_occur_scaled.shape[1]\n",
    "Theta1 = inicializaPesosAleatorios(input_layer_size, hidden_layer_size, randomSeed = 10)\n",
    "Theta2 = inicializaPesosAleatorios(hidden_layer_size, num_labels, randomSeed = 20)\n",
    "nn_params = np.concatenate([np.ravel(Theta1), np.ravel(Theta2)])\n",
    "\n",
    "#Rodar modelo\n",
    "args = (input_layer_size, hidden_layer_size, num_labels, X_train_occur_scaled, Y_occur_train + 1, vLambda)\n",
    "\n",
    "result = scipy.optimize.minimize(fun=funcaoCusto_backp_reg, x0=nn_params, args=args,\n",
    "                                 method='TNC', jac=True, options={'maxiter':MaxIter})\n",
    "\n",
    "nn_params = result.x\n",
    "Theta1 = np.reshape(nn_params[0:hidden_layer_size * (input_layer_size + 1)], \n",
    "                    (hidden_layer_size, input_layer_size + 1))\n",
    "Theta2 = np.reshape(nn_params[hidden_layer_size * (input_layer_size + 1):], \n",
    "                    (num_labels, hidden_layer_size + 1))\n",
    "\n",
    "#Gerar predição\n",
    "pred_occur = predicao(Theta1, Theta2, X_test_occur_scaled)\n",
    "cm = get_confusionMatrix(Y_occur_test, pred_occur, [0,1])\n",
    "\n",
    "print('Matriz de confusão:')\n",
    "print(cm)\n",
    "\n",
    "vp=cm[0,0] # quantidade de verdadeiros positivos\n",
    "vn=cm[1,1] # quantidade de verdadeiros negativos\n",
    "fp=cm[1,0] # quantidade de falsos positivos\n",
    "fn=cm[0,1] # quantidade de falsos negativos    \n",
    "recall = vp/(vp+fn)\n",
    "precision = vp/(vp+fp)\n",
    "    \n",
    "f1 = 2 * (precision * recall) / (precision + recall)\n",
    "\n",
    "print('Score F1: {}'.format(f1))"
   ]
  },
  {
   "cell_type": "markdown",
   "metadata": {},
   "source": [
    "Verficamos que os scores obtidos com o _dataset_ de validação e o _dataset_ de teste são parecidos, o que é um indicativo de que não há overfit."
   ]
  }
 ],
 "metadata": {
  "kernelspec": {
   "display_name": "Python 3",
   "language": "python",
   "name": "python3"
  },
  "language_info": {
   "codemirror_mode": {
    "name": "ipython",
    "version": 3
   },
   "file_extension": ".py",
   "mimetype": "text/x-python",
   "name": "python",
   "nbconvert_exporter": "python",
   "pygments_lexer": "ipython3",
   "version": "3.7.3"
  }
 },
 "nbformat": 4,
 "nbformat_minor": 2
}
